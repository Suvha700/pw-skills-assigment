{
 "cells": [
  {
   "cell_type": "code",
   "execution_count": 2,
   "id": "283f9648-f323-4bef-99e5-20a7246a98a0",
   "metadata": {},
   "outputs": [],
   "source": [
    "#Q1. Explain why we have to use the Exception class while creating a Custom Exception.\n",
    "\n",
    "#:-- We use the Exception class as the base class for creating custom exceptions because it provides the necessary functionality and behavior for an exception. \n"
   ]
  },
  {
   "cell_type": "code",
   "execution_count": null,
   "id": "b4528acb-f4e4-4bca-bba6-3d419d4365f6",
   "metadata": {},
   "outputs": [],
   "source": []
  },
  {
   "cell_type": "code",
   "execution_count": 10,
   "id": "9e44542a-0d6a-4e4d-8cfd-6583ac26899f",
   "metadata": {},
   "outputs": [],
   "source": [
    "#Q2. Write a python program to print Python Exception Hierarchy.\n",
    "\n",
    "def print_exception_hierarchy(exception_class, indent=0):\n",
    "    print(' ' * indent + exception_class.__name__)\n",
    "    for subclass in exception_class.__subclasses__():\n",
    "        print_exception_hierarchy(subclass, indent + 4)\n",
    "\n",
    "print_exception_hierarchy(BaseException)\n"
   ]
  },
  {
   "cell_type": "code",
   "execution_count": null,
   "id": "018e4a49-82f7-41f6-b78f-7d259da42529",
   "metadata": {},
   "outputs": [],
   "source": []
  },
  {
   "cell_type": "code",
   "execution_count": 15,
   "id": "b8721e24-b0ed-4860-b9d9-24e8bd50444b",
   "metadata": {},
   "outputs": [
    {
     "name": "stdout",
     "output_type": "stream",
     "text": [
      "Error: division by zero\n"
     ]
    }
   ],
   "source": [
    "#Q3. What errors are defined in the ArithmeticError class? Explain any two with an example.\n",
    "\n",
    "\n",
    "#Two examples of errors defined in the ArithmeticError class are:\n",
    "\n",
    "#1. ZeroDivisionError: This error occurs when a division or modulo operation is performed with a divisor of zero. It is raised when attempting to divide a number by zero. For example:\n",
    "\n",
    "try:\n",
    "    result = 10 / 0\n",
    "except ZeroDivisionError as e:\n",
    "    print(\"Error:\", e)\n",
    "\n",
    "\n",
    "\n",
    "#2. OverflowError: This error occurs when the result of an arithmetic operation exceeds the maximum representable value for a numeric type. It is raised when attempting to perform an operation that results in a number too large to be represented. For example:\n",
    "\n",
    "try:\n",
    "    result = 10 ** 10000\n",
    "except OverflowError as e:\n",
    "    print(\"Error:\", e)\n"
   ]
  },
  {
   "cell_type": "code",
   "execution_count": null,
   "id": "a5a4ef52-724f-4e9d-8290-2d87bddd9741",
   "metadata": {},
   "outputs": [],
   "source": []
  },
  {
   "cell_type": "code",
   "execution_count": 16,
   "id": "3440ba93-cb58-4983-a128-dc6f11be91ec",
   "metadata": {},
   "outputs": [
    {
     "name": "stdout",
     "output_type": "stream",
     "text": [
      "Error: 'c'\n",
      "Error: list index out of range\n"
     ]
    }
   ],
   "source": [
    "#Q4. Why LookupError class is used? Explain with an example KeyError and IndexError.\n",
    "\n",
    "#The LookupError class is a base class for all errors that occur when a key or index is not found in a collection. It is a subclass of the Exception class and a superclass of more specific lookup-related error classes.\n",
    "\n",
    "#Two examples of errors defined in the LookupError class are:\n",
    "\n",
    "#1. KeyError: This error occurs when a key is not found in a dictionary or another mapping object. It is raised when attempting to access a key that does not exist. For example:\n",
    "\n",
    "try:\n",
    "    my_dict = {'a': 1, 'b': 2}\n",
    "    value = my_dict['c']\n",
    "except KeyError as e:\n",
    "    print(\"Error:\", e)\n",
    "\n",
    "\n",
    "#In this example, we try to access the value associated with the key 'c' in the my_dict dictionary, but the key does not exist. This raises a KeyError, and the error message includes the key that was not found ('c').\n",
    "\n",
    "#2. IndexError: This error occurs when an index is out of range in a sequence or list. It is raised when attempting to access an element at an invalid index. For example:\n",
    "\n",
    "try:\n",
    "    my_list = [1, 2, 3]\n",
    "    value = my_list[3]\n",
    "except IndexError as e:\n",
    "    print(\"Error:\", e)\n"
   ]
  },
  {
   "cell_type": "code",
   "execution_count": null,
   "id": "39aef6d1-ad30-4cf3-8b2d-c0be98855983",
   "metadata": {},
   "outputs": [],
   "source": []
  },
  {
   "cell_type": "code",
   "execution_count": 20,
   "id": "1b903103-b73a-4cac-8e2d-9092da0356fe",
   "metadata": {},
   "outputs": [
    {
     "name": "stdout",
     "output_type": "stream",
     "text": [
      "Error: No module named 'non_existent_module'\n"
     ]
    }
   ],
   "source": [
    "#Q5. Explain ImportError. What is ModuleNotFoundError?\n",
    "\n",
    "\"\"\"ImportError is an error that occurs when a module or package cannot be imported in Python. \n",
    "It is raised when there is a problem with the import statement, such as when the module or package does not exist or cannot be found.\"\"\"\n",
    "\n",
    "#For example:\n",
    "\n",
    "try:\n",
    "    import non_existent_module\n",
    "except ImportError as e:\n",
    "    print(\"Error:\", e)\n"
   ]
  },
  {
   "cell_type": "code",
   "execution_count": null,
   "id": "87d63335-5f76-4b26-b14a-bb376dcfea59",
   "metadata": {},
   "outputs": [],
   "source": []
  },
  {
   "cell_type": "code",
   "execution_count": null,
   "id": "d1693314-591b-4220-b527-6dad04aac0be",
   "metadata": {},
   "outputs": [],
   "source": [
    "#Q6. List down some best practices for exception handling in python.\n",
    "#Here are some best practices for exception handling in Python:\n",
    "\n",
    "1. Use specific exception types\n",
    "\n",
    "2. Use multiple except blocks: If you expect different types of exceptions, it is better to use multiple except blocks instead of catching a broad exception like Exception. This allows you to handle different exceptions separately and provide more specific error messages.\n",
    "\n",
    "3. Avoid using bare except: Using a bare except statement without specifying the exception type should be avoided. It makes it difficult to debug and understand the code, as any exception could be caught and handled, including unexpected ones.\n",
    "\n",
    "4. Use finally block for cleanup: If there are resources that need to be released, such as file handles or network connections, use a finally block to ensure that the cleanup code is always executed, regardless of whether an exception occurred or not.\n",
    "\n",
    "5. Handle exceptions at the appropriate level: Handle exceptions at the level where you have enough information to handle them effectively. If an exception cannot be handled at a particular level, let it propagate up the call stack to a higher level that can handle it appropriately.\n",
    "\n",
    "6. Log exceptions: Logging exceptions with details like the error message, traceback, and any relevant context can be helpful for debugging and troubleshooting. Use a logging framework to log exceptions instead of printing them directly.\n"
   ]
  }
 ],
 "metadata": {
  "kernelspec": {
   "display_name": "Python 3 (ipykernel)",
   "language": "python",
   "name": "python3"
  },
  "language_info": {
   "codemirror_mode": {
    "name": "ipython",
    "version": 3
   },
   "file_extension": ".py",
   "mimetype": "text/x-python",
   "name": "python",
   "nbconvert_exporter": "python",
   "pygments_lexer": "ipython3",
   "version": "3.10.8"
  }
 },
 "nbformat": 4,
 "nbformat_minor": 5
}
