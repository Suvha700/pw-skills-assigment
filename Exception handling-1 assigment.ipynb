{
 "cells": [
  {
   "cell_type": "code",
   "execution_count": 13,
   "id": "c1b6f045-e398-4098-8e32-d1d960d61d07",
   "metadata": {},
   "outputs": [
    {
     "data": {
      "text/plain": [
       "'An error is an issue in a program that prevents the program from completing its task.\\nIn comparison, an exception is a condition that interrupts the normal flow of the program.'"
      ]
     },
     "execution_count": 13,
     "metadata": {},
     "output_type": "execute_result"
    }
   ],
   "source": [
    "#Q1. What is an exception in python ?write the deferince betwen exception and syntax error. \n",
    "\n",
    "#:- exception is an event, which occurs during the execution of a program that disrupts the normal flow of the program's instructions.\n",
    "\n",
    "\"\"\"An error is an issue in a program that prevents the program from completing its task.\n",
    "In comparison, an exception is a condition that interrupts the normal flow of the program.\"\"\""
   ]
  },
  {
   "cell_type": "code",
   "execution_count": null,
   "id": "734417fe-3143-4a2c-8243-904c501e9339",
   "metadata": {},
   "outputs": [],
   "source": [
    "\n"
   ]
  },
  {
   "cell_type": "code",
   "execution_count": 15,
   "id": "a7975d37-31dc-410a-896c-7581e68c1966",
   "metadata": {},
   "outputs": [
    {
     "name": "stdout",
     "output_type": "stream",
     "text": [
      "1.0\n",
      "0.6666666666666666\n",
      "0.5\n",
      "0.3333333333333333\n",
      "0.25\n"
     ]
    },
    {
     "ename": "ZeroDivisionError",
     "evalue": "division by zero",
     "output_type": "error",
     "traceback": [
      "\u001b[0;31m---------------------------------------------------------------------------\u001b[0m",
      "\u001b[0;31mZeroDivisionError\u001b[0m                         Traceback (most recent call last)",
      "Cell \u001b[0;32mIn[15], line 8\u001b[0m\n\u001b[1;32m      5\u001b[0m list1\u001b[38;5;241m=\u001b[39m[\u001b[38;5;241m2\u001b[39m,\u001b[38;5;241m3\u001b[39m,\u001b[38;5;241m4\u001b[39m,\u001b[38;5;241m6\u001b[39m,\u001b[38;5;241m8\u001b[39m,\u001b[38;5;241m0\u001b[39m,\u001b[38;5;241m7\u001b[39m,\u001b[38;5;241m9\u001b[39m,\u001b[38;5;241m5\u001b[39m,\u001b[38;5;241m4\u001b[39m,\u001b[38;5;241m8\u001b[39m]\u001b[38;5;66;03m# we have a list and went to divition by 2 lets see what happes.\u001b[39;00m\n\u001b[1;32m      7\u001b[0m \u001b[38;5;28;01mfor\u001b[39;00m i \u001b[38;5;129;01min\u001b[39;00m list1:\n\u001b[0;32m----> 8\u001b[0m     \u001b[38;5;28mprint\u001b[39m(\u001b[38;5;241;43m2\u001b[39;49m\u001b[38;5;241;43m/\u001b[39;49m\u001b[43mi\u001b[49m)\n",
      "\u001b[0;31mZeroDivisionError\u001b[0m: division by zero"
     ]
    }
   ],
   "source": [
    "#Q2. What happens whena n exception is not handled? Explain with an example.\n",
    "\n",
    "#when exceptions is not handled the pogram will be crash.\n",
    "#exp:-\n",
    "list1=[2,3,4,6,8,0,7,9,5,4,8]# we have a list and went to divition by 2 lets see what happes.\n",
    "\n",
    "for i in list1:\n",
    "    print(2/i)\n",
    "    \n",
    "   #here our pogram is crashed because exceptioms is not handled .\n"
   ]
  },
  {
   "cell_type": "code",
   "execution_count": null,
   "id": "cd42ac3f-a8bc-4220-8f59-e7993c9a9570",
   "metadata": {},
   "outputs": [],
   "source": []
  },
  {
   "cell_type": "code",
   "execution_count": 11,
   "id": "509d7fd5-c64f-4b17-8f56-9f5ae8163837",
   "metadata": {},
   "outputs": [
    {
     "name": "stdout",
     "output_type": "stream",
     "text": [
      "1.0\n",
      "0.6666666666666666\n",
      "0.5\n",
      "0.3333333333333333\n",
      "0.25\n",
      "0.2857142857142857\n",
      "0.2222222222222222\n",
      "0.4\n",
      "0.5\n",
      "0.25\n",
      "division by zero\n"
     ]
    }
   ],
   "source": [
    "#Q3. Which Python stetments are used to catch and handle exceptions? Explan with an example.\n",
    "\n",
    "#The try and except block in Python is used to catch and handle exceptions.\n",
    "#exp:--\n",
    "list1=[2,3,4,6,8,7,9,5,4,8,0]\n",
    "    \n",
    "try:\n",
    "    for i in list1:\n",
    "        print(2/i)\n",
    "    \n",
    "\n",
    "except ZeroDivisionError as e:\n",
    "    print(e)    \n",
    "    \n",
    "else:\n",
    "    print('our pogram has no error')\n",
    "    #here we catch and handle exceptions.\n",
    "    \n",
    "        "
   ]
  },
  {
   "cell_type": "code",
   "execution_count": null,
   "id": "34f734a2-ffaa-463b-8632-afd76b17bbec",
   "metadata": {},
   "outputs": [],
   "source": []
  },
  {
   "cell_type": "code",
   "execution_count": null,
   "id": "20019bc5-f716-4565-b889-c9be483fde02",
   "metadata": {},
   "outputs": [],
   "source": []
  },
  {
   "cell_type": "code",
   "execution_count": 17,
   "id": "9180d24c-f3c9-47db-9b36-99a21b38aa0e",
   "metadata": {},
   "outputs": [
    {
     "name": "stdout",
     "output_type": "stream",
     "text": [
      "Yeah ! Your answer is : 1\n",
      "This is always executed\n",
      " \n",
      "Sorry ! You are dividing by zero \n",
      "This is always executed\n"
     ]
    }
   ],
   "source": [
    "#Q4. Explain with an example:#\n",
    "\n",
    "#a. try and else\n",
    "#b. finally\n",
    "#c. raise\n",
    "\n",
    "\n",
    "\n",
    "#a = 5  \n",
    "#raise Keyword is used to raise exceptions or errors. The raise keyword raises an error and stops the control flow of the program.  \n",
    "\n",
    "#         if a % 2 != 0:\n",
    "#       raise Exception(\"The number shouldn't be an odd integer\")\n",
    "\n",
    "\n",
    "\n",
    "\n",
    "def divide(x, y):\n",
    "    try:     #The try block lets you test a block of code for errors. \n",
    "        result = x // y\n",
    "    \n",
    "    except ZeroDivisionError:   #The except block lets you handle the error\n",
    "        print(\"Sorry ! You are dividing by zero \")\n",
    "    \n",
    "    else:     # The else block lets you execute code when there is no error\n",
    "        print(\"Yeah ! Your answer is :\", result)\n",
    "    \n",
    "    finally: \n",
    "        # this block is always executed  \n",
    "        # regardless of exception generation. \n",
    "        print('This is always executed')  \n",
    "\n",
    "        \n",
    "divide(3,2)\n",
    "print(' ')\n",
    "divide(3,0)        "
   ]
  },
  {
   "cell_type": "code",
   "execution_count": null,
   "id": "6beed240-addc-4441-8bbf-4409960eb010",
   "metadata": {},
   "outputs": [],
   "source": []
  },
  {
   "cell_type": "code",
   "execution_count": 18,
   "id": "c6a63d48-6afa-4cc3-a2b5-b212a245d731",
   "metadata": {},
   "outputs": [],
   "source": [
    "#Q5. what are the custom exception in python? why do we need custom exceptions in python. explain eith an example.\n",
    "\n",
    "\"\"\"In Python, custom exceptions are user-defined exceptions that allow programmers to create their own exception classes. \n",
    "These custom exceptions can be raised and caught just like built-in exceptions.\"\"\"\n",
    "\n",
    "\"\"\"We need custom exceptions in Python to handle specific error conditions that may occur in our code. By creating custom exceptions,\n",
    "we can provide more meaningful error messages and handle these errors in a more specific manner. \n",
    "This can make our code more readable, maintainable, and easier to debug.\"\"\"\n",
    "\n",
    "#Here's an example to illustrate the use of custom exceptions in Python:-\n",
    "\n",
    "class validateage(Exception): #here we make age validation class for raise exception.\n",
    "    \n",
    "    def __init__(self , msg) : \n",
    "        self.msg = msg\n",
    "        \n",
    "\n",
    "def validaetage(age) :  #this is our method for valadite age .\n",
    "    if age < 0 :\n",
    "        raise validateage(\"entered age is negative \" )\n",
    "    elif age > 200 : \n",
    "        raise validateage(\"enterd age is very very high \" )\n",
    "    else :\n",
    "        print(\"age is valid\" )\n"
   ]
  },
  {
   "cell_type": "code",
   "execution_count": null,
   "id": "5e1ac071-7ca8-403e-9307-f498d9b4a914",
   "metadata": {},
   "outputs": [],
   "source": []
  },
  {
   "cell_type": "code",
   "execution_count": 2,
   "id": "5b6f37f0-84a0-45ce-83ed-022721ea0b71",
   "metadata": {},
   "outputs": [
    {
     "name": "stdout",
     "output_type": "stream",
     "text": [
      "Insufficient funds! You tried to withdraw 1000, but your balance is only 500.\n"
     ]
    }
   ],
   "source": [
    "#Q6. create an custon exceptions class.use this to handel a exceptions \n",
    "\n",
    "\n",
    "\n",
    "class InsufficientFundsError(Exception):\n",
    "    def __init__(self, amount, balance):\n",
    "        self.amount = amount\n",
    "        self.balance = balance\n",
    "\n",
    "    def __str__(self):\n",
    "        return f\"Insufficient funds! You tried to withdraw {self.amount}, but your balance is only {self.balance}.\"\n",
    "\n",
    "\n",
    "def withdraw(amount, balance):\n",
    "    if amount > balance:\n",
    "        raise InsufficientFundsError(amount, balance)\n",
    "    else:\n",
    "        print(\"Withdrawal successful!\")\n",
    "\n",
    "\n",
    "try:\n",
    "    withdraw(1000, 500)  # Raises InsufficientFundsError\n",
    "except InsufficientFundsError as e:\n",
    "    print(e)  # Output: Insufficient funds! You tried to withdraw 1000, but your balance is only 500."
   ]
  },
  {
   "cell_type": "code",
   "execution_count": null,
   "id": "2c776075-6b70-42a8-b957-868340a19189",
   "metadata": {},
   "outputs": [],
   "source": []
  }
 ],
 "metadata": {
  "kernelspec": {
   "display_name": "Python 3 (ipykernel)",
   "language": "python",
   "name": "python3"
  },
  "language_info": {
   "codemirror_mode": {
    "name": "ipython",
    "version": 3
   },
   "file_extension": ".py",
   "mimetype": "text/x-python",
   "name": "python",
   "nbconvert_exporter": "python",
   "pygments_lexer": "ipython3",
   "version": "3.10.8"
  }
 },
 "nbformat": 4,
 "nbformat_minor": 5
}
