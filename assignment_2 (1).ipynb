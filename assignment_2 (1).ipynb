{
 "cells": [
  {
   "cell_type": "code",
   "execution_count": null,
   "id": "b7988436-0c64-401f-8555-4d0ec13e44b7",
   "metadata": {},
   "outputs": [],
   "source": [
    "#Q1 How do you comment code in Python? What are the different types of comments?\n",
    "\n",
    "'''we will do comment using # and \"\"\"\n",
    "there are two type of comment single line comment and multy line comment.'''\n",
    "\n",
    "#we are using # for single line comment-\n",
    "#this is single line comment'''\n",
    "\n",
    "#and we do multyline comment using \"\"\"\n",
    "\"\"\"this is multyline comment\"\"\"\n"
   ]
  },
  {
   "cell_type": "code",
   "execution_count": 3,
   "id": "f711b4f2-dbc5-434f-a036-f8a20813c3d0",
   "metadata": {},
   "outputs": [],
   "source": [
    "#Q2 What are variables in Python? How do you declare and assign values to variables?\n",
    "#variables are a symbolic name that is a reference or pointer to an object. = is used for assign any data.\n",
    "'''exp -''' \n",
    "a=10    #here we assign 10 to a.\n",
    "b=20    #here we assign 20 to b.\n",
    "c=30    #here we assign 30 to c."
   ]
  },
  {
   "cell_type": "code",
   "execution_count": 10,
   "id": "54166e0f-b76a-41e3-9a6c-df55f32ddfd0",
   "metadata": {},
   "outputs": [],
   "source": [
    "#3How do you convert one data type to another in Python?\n",
    "#when we convert one data to anathar data type we use -\n",
    "\n",
    "y = int(2.8) # now y will be 2 is a int type data\n",
    "x = float(5) # now x will be 2.0 ii=t's a float data type\n",
    "\n"
   ]
  },
  {
   "cell_type": "code",
   "execution_count": 11,
   "id": "9a12ca90-cd65-42b5-9d47-c48c766bf7af",
   "metadata": {},
   "outputs": [
    {
     "data": {
      "text/plain": [
       "int"
      ]
     },
     "execution_count": 11,
     "metadata": {},
     "output_type": "execute_result"
    }
   ],
   "source": [
    "type(y)"
   ]
  },
  {
   "cell_type": "code",
   "execution_count": 12,
   "id": "55fef31b-61fa-4ed2-8977-0eaa81041ed6",
   "metadata": {},
   "outputs": [
    {
     "data": {
      "text/plain": [
       "float"
      ]
     },
     "execution_count": 12,
     "metadata": {},
     "output_type": "execute_result"
    }
   ],
   "source": [
    "type(x)"
   ]
  },
  {
   "cell_type": "code",
   "execution_count": null,
   "id": "fea73c58-a5ae-4eb7-8d45-c4e1b0476689",
   "metadata": {},
   "outputs": [],
   "source": [
    "#Q4 How do you write and execute a Python script from the command line?\n",
    "\n",
    "#to Create a new Python file in called “hello.py” by typing “vim hello.py” in the terminal/to Run your script by typing python hello.py in the Terminal.\n",
    "\n",
    "\n"
   ]
  },
  {
   "cell_type": "code",
   "execution_count": 22,
   "id": "df301e18-6a6f-4c90-83df-8b929cdab129",
   "metadata": {},
   "outputs": [],
   "source": [
    "#Q5 Given a list my_list = [1, 2, 3, 4, 5], write the code to slice the list and obtain the sub-list [2, 3].\n",
    "\n",
    "my_list=[1,2,3,4,5]\n"
   ]
  },
  {
   "cell_type": "code",
   "execution_count": 23,
   "id": "ea690e1e-8a89-4ba7-8a56-3f7f49a21cdd",
   "metadata": {},
   "outputs": [
    {
     "name": "stdout",
     "output_type": "stream",
     "text": [
      "[2, 3]\n"
     ]
    }
   ],
   "source": [
    "print(my_list[1:3])"
   ]
  },
  {
   "cell_type": "code",
   "execution_count": null,
   "id": "6b56178c-ee7a-46aa-b115-cfc2eb32c9ff",
   "metadata": {},
   "outputs": [],
   "source": [
    "\n"
   ]
  },
  {
   "cell_type": "code",
   "execution_count": 36,
   "id": "01b16336-e9c5-40dd-82d8-d2dda7502d0f",
   "metadata": {},
   "outputs": [],
   "source": [
    "#Q6 What is a complex number in mathematics, and how is it represented in Python?\n",
    " \n",
    "'''Complex numbers are the numbers that are expressed in the form of a+ib where, a,b are real numbers and 'i' is an imaginary number '''\n",
    "\n",
    "\"\"\"in python cpmplex number represented using complex () function. \"\"\"\n",
    "\n",
    "'''exp''' \n",
    "w = complex(1+1j)\n"
   ]
  },
  {
   "cell_type": "code",
   "execution_count": 37,
   "id": "8d9f92ed-f502-47c5-9d90-57eae2bea6ab",
   "metadata": {},
   "outputs": [
    {
     "data": {
      "text/plain": [
       "(1+1j)"
      ]
     },
     "execution_count": 37,
     "metadata": {},
     "output_type": "execute_result"
    }
   ],
   "source": [
    "w"
   ]
  },
  {
   "cell_type": "code",
   "execution_count": 38,
   "id": "f002c79c-d25e-4dd1-8a03-51f3d9171562",
   "metadata": {},
   "outputs": [
    {
     "data": {
      "text/plain": [
       "complex"
      ]
     },
     "execution_count": 38,
     "metadata": {},
     "output_type": "execute_result"
    }
   ],
   "source": [
    "type(w)"
   ]
  },
  {
   "cell_type": "code",
   "execution_count": 40,
   "id": "7fa9b9d2-ab99-443f-bdc8-eaf3a29719eb",
   "metadata": {},
   "outputs": [],
   "source": [
    "#Q7 What is the correct way to declare a variable named age and assign the value 25 to it\n",
    "\n",
    "age = 25"
   ]
  },
  {
   "cell_type": "code",
   "execution_count": 41,
   "id": "a0bac52c-1639-4673-a6b2-7f777f49eb90",
   "metadata": {},
   "outputs": [
    {
     "data": {
      "text/plain": [
       "25"
      ]
     },
     "execution_count": 41,
     "metadata": {},
     "output_type": "execute_result"
    }
   ],
   "source": [
    "age"
   ]
  },
  {
   "cell_type": "code",
   "execution_count": 46,
   "id": "c59e6f15-72a9-4e57-8f33-8c989dd4471f",
   "metadata": {},
   "outputs": [
    {
     "data": {
      "text/plain": [
       "float"
      ]
     },
     "execution_count": 46,
     "metadata": {},
     "output_type": "execute_result"
    }
   ],
   "source": [
    "#Q8. Declare a variable named price and assign the value 9.99 to it. What data type does this variable belong to?\n",
    "\n",
    "price =9.99\n",
    "type(price)"
   ]
  },
  {
   "cell_type": "code",
   "execution_count": 45,
   "id": "9fd0fd43-91f8-483f-8df6-ac521ecfadf7",
   "metadata": {},
   "outputs": [],
   "source": [
    "#its a float data type"
   ]
  },
  {
   "cell_type": "code",
   "execution_count": null,
   "id": "bbe2ea7f-7afd-4890-b934-cc7d1ed408f1",
   "metadata": {},
   "outputs": [],
   "source": [
    "\n"
   ]
  },
  {
   "cell_type": "code",
   "execution_count": 49,
   "id": "f04e4879-e606-4975-8860-436760045876",
   "metadata": {},
   "outputs": [],
   "source": [
    "#Q9. Create a variable named name and assign your full name to it as a string. How would you print the value of this variable?\n",
    "\n",
    "name = \"sabyasachi mishra\""
   ]
  },
  {
   "cell_type": "code",
   "execution_count": 50,
   "id": "d9b26a04-680c-4ed6-aead-6f2fc85f470c",
   "metadata": {},
   "outputs": [
    {
     "name": "stdout",
     "output_type": "stream",
     "text": [
      "sabyasachi mishra\n"
     ]
    }
   ],
   "source": [
    "print(name)"
   ]
  },
  {
   "cell_type": "code",
   "execution_count": null,
   "id": "245d8173-4c15-48c1-975c-4b49af6737cd",
   "metadata": {},
   "outputs": [],
   "source": [
    "\n"
   ]
  },
  {
   "cell_type": "code",
   "execution_count": 52,
   "id": "72777560-4cbe-41b7-b465-8282dfb5050e",
   "metadata": {},
   "outputs": [],
   "source": [
    "#Q10. Given the string \"Hello, World!\", extract the substring \"World\".\n",
    "\n",
    "E = \"HELLO,WORLD\""
   ]
  },
  {
   "cell_type": "code",
   "execution_count": 54,
   "id": "2abaad87-37d7-4956-8cae-5dff78df7242",
   "metadata": {},
   "outputs": [
    {
     "data": {
      "text/plain": [
       "'HELLO'"
      ]
     },
     "execution_count": 54,
     "metadata": {},
     "output_type": "execute_result"
    }
   ],
   "source": [
    "E[:-6]"
   ]
  },
  {
   "cell_type": "code",
   "execution_count": null,
   "id": "fa070da9-b81d-43b1-982a-da47e9bd4141",
   "metadata": {},
   "outputs": [],
   "source": [
    "\n"
   ]
  },
  {
   "cell_type": "code",
   "execution_count": 1,
   "id": "7561571a-821e-41ff-aafb-575e649d2da3",
   "metadata": {},
   "outputs": [],
   "source": [
    "#Q11. Create a variable named \"is_student\" and assign it a boolean value indicating whether you are currently a student or not."
   ]
  },
  {
   "cell_type": "code",
   "execution_count": null,
   "id": "90ceb199-d497-48f2-b155-88ec7bc71f8c",
   "metadata": {},
   "outputs": [],
   "source": [
    "is_student = True #currently i'm a student"
   ]
  },
  {
   "cell_type": "code",
   "execution_count": null,
   "id": "ac09a30f-a4ae-4532-bc52-a9013be4535d",
   "metadata": {},
   "outputs": [],
   "source": []
  }
 ],
 "metadata": {
  "kernelspec": {
   "display_name": "Python 3 (ipykernel)",
   "language": "python",
   "name": "python3"
  },
  "language_info": {
   "codemirror_mode": {
    "name": "ipython",
    "version": 3
   },
   "file_extension": ".py",
   "mimetype": "text/x-python",
   "name": "python",
   "nbconvert_exporter": "python",
   "pygments_lexer": "ipython3",
   "version": "3.10.8"
  }
 },
 "nbformat": 4,
 "nbformat_minor": 5
}
