{
 "cells": [
  {
   "cell_type": "markdown",
   "id": "37cb9370",
   "metadata": {},
   "source": [
    "#[Q1.] What is an API? Give an example, where an API is used in real life.\n",
    "\n",
    "#[Ans]\n",
    "\"\"\"An API or Application Programming Interface, is a set of protocols, routines,\n",
    "and tools for building software application.\n",
    "\n",
    "One example of an API being used in real life is with the Google Maps API. The Google Maps \n",
    "API allows developers to integrate Google Maps into their own application, and provides\n",
    "a way for users to interact with the maps and access location-based data.\"\"\""
   ]
  },
  {
   "cell_type": "code",
   "execution_count": null,
   "id": "c3469eed",
   "metadata": {},
   "outputs": [],
   "source": []
  },
  {
   "cell_type": "markdown",
   "id": "dbaa8a20",
   "metadata": {},
   "source": [
    "[Q2.] Give advantages and disadvantages of using API.\n",
    "[Ans]\n",
    "ADVANTAGES :-\n",
    "\n",
    "[1.] Increased functionality.\n",
    "\n",
    "[2.] Reduced development time.\n",
    "\n",
    "[3.] Improved user experience.\n",
    "\n",
    "DISADVANTAGES :-\n",
    "\n",
    "[1.] Security risks.\n",
    "\n",
    "[2.] Reliability issues.\n",
    "\n",
    "[3.] Complexity."
   ]
  },
  {
   "cell_type": "code",
   "execution_count": null,
   "id": "47b506bf",
   "metadata": {},
   "outputs": [],
   "source": []
  },
  {
   "cell_type": "markdown",
   "id": "0345de28",
   "metadata": {},
   "source": [
    "[Q3.] What is a Web API? Differentiate between API and Web API.\n",
    "[Ans]\n",
    "A web API, or Web Application Programming Interface, is an API that is accessed\n",
    "over the internet using HTTP (Hypertext Transfer Protocol).\n",
    "\n",
    "The main difference between a web API and an API is that web API is accessed over \n",
    "the internet using HTTP, while an API can be accessed locally or over a network using a variety of protocols."
   ]
  },
  {
   "cell_type": "code",
   "execution_count": null,
   "id": "dbf30617",
   "metadata": {},
   "outputs": [],
   "source": []
  },
  {
   "cell_type": "markdown",
   "id": "99b42903",
   "metadata": {},
   "source": [
    "[Q4.] Explain REST and SOAP Architecture. Mention shortcomings of SOAP.\n",
    "[Ans]\n",
    "REST ARCHITECTURE :- REST (Representational State Transfer) is an architectural style that uses HTTP protocols to access web services.\n",
    "\n",
    "SOAP ARCHITECTURE :- SOAP (Simple Object Access Protocol) is an XML-based messaging protocol that is used to exchange structured information between web services.\n",
    "\n",
    "SOAP has several shortcoming, includes :\n",
    "\n",
    "[1.] Complexity.\n",
    "\n",
    "[2.] Overhead.\n",
    "\n",
    "[3.] Limited support for web standards.\n",
    "\n",
    "[4.] Poor performance.\n",
    "\n",
    "[5.] Limited support for mobile devices.\n",
    "\n",
    "[6.] Limited caching."
   ]
  },
  {
   "cell_type": "code",
   "execution_count": null,
   "id": "68b660b1",
   "metadata": {},
   "outputs": [],
   "source": []
  },
  {
   "cell_type": "markdown",
   "id": "a683bbe9",
   "metadata": {},
   "source": [
    "[Q5.] Differentiate between REST and SOAP.\n",
    "[Ans]\n",
    "REST is a lightweight, simple, and stateless architecture that uses multiple saata formats, \n",
    "while SOAP is a protocol that uses XML exclusively and is more complex and heavyweight."
   ]
  },
  {
   "cell_type": "code",
   "execution_count": null,
   "id": "1a65297a",
   "metadata": {},
   "outputs": [],
   "source": []
  },
  {
   "cell_type": "code",
   "execution_count": null,
   "id": "8ea1f696",
   "metadata": {},
   "outputs": [],
   "source": []
  }
 ],
 "metadata": {
  "kernelspec": {
   "display_name": "Python 3 (ipykernel)",
   "language": "python",
   "name": "python3"
  },
  "language_info": {
   "codemirror_mode": {
    "name": "ipython",
    "version": 3
   },
   "file_extension": ".py",
   "mimetype": "text/x-python",
   "name": "python",
   "nbconvert_exporter": "python",
   "pygments_lexer": "ipython3",
   "version": "3.7.16"
  }
 },
 "nbformat": 4,
 "nbformat_minor": 5
}
