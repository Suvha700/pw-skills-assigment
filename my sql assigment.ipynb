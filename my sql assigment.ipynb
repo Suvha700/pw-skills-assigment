{
 "cells": [
  {
   "cell_type": "code",
   "execution_count": 1,
   "id": "1b4e7029",
   "metadata": {},
   "outputs": [],
   "source": [
    "#Q1. What is a database? Differentiate between SQL and NoSQL databases.\n",
    "\n",
    "#A database is an organized collection of structured information, or data, typically stored electronically in a computer system. \n",
    "\n",
    "#on sql we only store data in a structured way, buy on nosql we store structured data as well as non structured data."
   ]
  },
  {
   "cell_type": "code",
   "execution_count": null,
   "id": "c2987965",
   "metadata": {},
   "outputs": [],
   "source": [
    "\n"
   ]
  },
  {
   "cell_type": "code",
   "execution_count": 2,
   "id": "ce1d8582",
   "metadata": {},
   "outputs": [],
   "source": [
    "#Q2. What is DDL? Explain why CREATE, DROP, ALTER, and TRUNCATE are used with an example.\n",
    "\n",
    "#DDL stands for Data Definition Language. It is a set of SQL commands used to define and manage the structure of a database.\n",
    "\n",
    "# CREATE command is used to create new database objects such as tables, views, indexes, or stored procedures.\n",
    "\n",
    "\"\"\"\"CREATE TABLE Customers (\n",
    "       ID INT PRIMARY KEY,\n",
    "       Name VARCHAR(50),\n",
    "       Email VARCHAR(100)\n",
    "   );\"\"\"\n",
    "\n",
    "#The DROP command is used to remove an existing database object such as a table, view, index, or stored procedure. \n",
    "\n",
    " \"  DROP TABLE Customers;\"\n",
    "\n",
    "    \n",
    "#   The ALTER command is used to modify the structure of an existing database object. It can be used to add, modify, or delete columns in a table, change the data type of a column, or add constraints. \n",
    "\n",
    "\"\"\"  ALTER TABLE Customers\n",
    "   ADD Phone VARCHAR(20);\n",
    "    \"\"\"\n",
    "    \n",
    "# The TRUNCATE command is used to remove all data from a table, but it keeps the structure intact\n",
    "\n",
    "\"  TRUNCATE TABLE Customers; \"\n",
    "     \n",
    "    "
   ]
  },
  {
   "cell_type": "code",
   "execution_count": null,
   "id": "60d831da",
   "metadata": {},
   "outputs": [],
   "source": [
    "\n"
   ]
  },
  {
   "cell_type": "code",
   "execution_count": 8,
   "id": "25ba1d43",
   "metadata": {},
   "outputs": [],
   "source": [
    "#Q3. What is DML? Explain INSERT, UPDATE, and DELETE with an example.\n",
    "\n",
    "#DML is an abbreviation for Data Manipulation Language. Represents a collection of programming languages explicitly used to make changes to the database, \n",
    "\n",
    "#INSERT − Insert data into a table.\n",
    "#exp:- Insert into <table_name> (column list) values (column values);\n",
    "\n",
    "\n",
    "#UPDATE − Update existing data within a table.\n",
    "#exp:- UPDATE <table_name> SET column_number =value_number WHERE condition;\n",
    "\n",
    "\n",
    "#DELETE − Delete records from a database table.\n",
    "#exp:- Delete from <table_name>WHERE condition;"
   ]
  },
  {
   "cell_type": "code",
   "execution_count": null,
   "id": "a4fb4520",
   "metadata": {},
   "outputs": [],
   "source": [
    "\n"
   ]
  },
  {
   "cell_type": "code",
   "execution_count": 9,
   "id": "ff986485",
   "metadata": {},
   "outputs": [],
   "source": [
    "#Q4. What is DQL? Explain SELECT with an example\n",
    "\n",
    "#dql is a data query language,use for query any data in table.\n",
    "#select:- Select command is used to retrieve data from the database.\n",
    "#exp:-select * from <table_name>;"
   ]
  },
  {
   "cell_type": "code",
   "execution_count": null,
   "id": "ff0dec1c",
   "metadata": {},
   "outputs": [],
   "source": []
  },
  {
   "cell_type": "code",
   "execution_count": 5,
   "id": "0b436499",
   "metadata": {},
   "outputs": [],
   "source": [
    "#Q5. Explain Primary Key and Foreign Key.\n",
    "\n",
    "\"A primary key is a unique identifier for a record in a database table. It is a column or a combination of columns that uniquely identifies each row in the table. \"\n",
    "\"A foreign key is a column or a combination of columns in a database table that refers to the primary key of another table. It establishes a relationship between two tables, \"\n"
   ]
  },
  {
   "cell_type": "code",
   "execution_count": null,
   "id": "5f71d412",
   "metadata": {},
   "outputs": [],
   "source": []
  },
  {
   "cell_type": "code",
   "execution_count": 15,
   "id": "06e3d78c",
   "metadata": {},
   "outputs": [
    {
     "data": {
      "text/plain": [
       "'The execute() method is used to execute SQL queries using the cursor.\\nIt takes the SQL query as a parameter and executes it on the connected database.'"
      ]
     },
     "execution_count": 15,
     "metadata": {},
     "output_type": "execute_result"
    }
   ],
   "source": [
    "#Q6. Write a python code to connect MySQL to python. Explain the cursor() and execute() method.\n",
    "\n",
    "#import mysql.connector\n",
    "\n",
    "# Connect to MySQL\n",
    "\"\"\"mydb = mysql.connector.connect(\n",
    "      host=\"localhost\",\n",
    "      user=\"yourusername\",\n",
    "      password=\"yourpassword\",\n",
    "      database=\"yourdatabase\"\n",
    ")\"\"\"\n",
    "\n",
    "# Create a cursor object\n",
    "#cursor = mydb.cursor()\n",
    "\n",
    "\"\"\"The cursor() method is used to create a cursor object,\n",
    "which allows you to interact with the database.\n",
    "The cursor is used to execute SQL queries and fetch the results. \n",
    "It acts as a pointer or handle to the result set of a query.\n",
    "\"\"\"\n",
    "#to Create a cursor object\n",
    "#cursor = mydb.cursor()\n",
    "\n",
    "\"\"\"The execute() method is used to execute SQL queries using the cursor.\n",
    "It takes the SQL query as a parameter and executes it on the connected database.\"\"\"\n",
    "\n",
    "# Execute SQL queries\n",
    "#cursor.execute(\"SELECT * FROM yourtable\")\n",
    "#result = cursor.fetchall()\n"
   ]
  },
  {
   "cell_type": "code",
   "execution_count": null,
   "id": "7fec54ad",
   "metadata": {},
   "outputs": [],
   "source": []
  },
  {
   "cell_type": "code",
   "execution_count": 18,
   "id": "0cd953a9",
   "metadata": {},
   "outputs": [
    {
     "data": {
      "text/plain": [
       "'\\n1. FROM clause: This clause specifies the table or tables from which the data will be retrieved.\\n\\n2. WHERE clause: This clause is used to filter the data based on specified conditions.\\n\\n3. GROUP BY clause: This clause is used to group the data based on specified columns.\\n\\n4. HAVING clause: This clause is used to filter the grouped data based on specified conditions.\\n\\n5. SELECT clause: This clause is used to select the columns that will be included in the result set.\\n\\n6. ORDER BY clause: This clause is used to sort the result set based on specified columns.\\n\\n7. LIMIT clause: This clause is used to limit the number of rows returned by the query.\\n'"
      ]
     },
     "execution_count": 18,
     "metadata": {},
     "output_type": "execute_result"
    }
   ],
   "source": [
    "#Q7. Give the order of execution of SQL clauses in an SQL query\n",
    "\"\"\"\n",
    "1. FROM clause: This clause specifies the table or tables from which the data will be retrieved.\n",
    "\n",
    "2. WHERE clause: This clause is used to filter the data based on specified conditions.\n",
    "\n",
    "3. GROUP BY clause: This clause is used to group the data based on specified columns.\n",
    "\n",
    "4. HAVING clause: This clause is used to filter the grouped data based on specified conditions.\n",
    "\n",
    "5. SELECT clause: This clause is used to select the columns that will be included in the result set.\n",
    "\n",
    "6. ORDER BY clause: This clause is used to sort the result set based on specified columns.\n",
    "\n",
    "7. LIMIT clause: This clause is used to limit the number of rows returned by the query.\n",
    "\"\"\"\n",
    "  \n",
    "#Note that not all clauses are required in every SQL query"
   ]
  },
  {
   "cell_type": "code",
   "execution_count": null,
   "id": "61040fa3",
   "metadata": {},
   "outputs": [],
   "source": []
  }
 ],
 "metadata": {
  "kernelspec": {
   "display_name": "Python 3 (ipykernel)",
   "language": "python",
   "name": "python3"
  },
  "language_info": {
   "codemirror_mode": {
    "name": "ipython",
    "version": 3
   },
   "file_extension": ".py",
   "mimetype": "text/x-python",
   "name": "python",
   "nbconvert_exporter": "python",
   "pygments_lexer": "ipython3",
   "version": "3.10.9"
  }
 },
 "nbformat": 4,
 "nbformat_minor": 5
}
