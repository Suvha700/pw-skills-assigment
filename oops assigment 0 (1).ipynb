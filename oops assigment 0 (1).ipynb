{
 "cells": [
  {
   "cell_type": "code",
   "execution_count": 5,
   "id": "d2973640-d7d5-4512-a9a4-9b663ae00b15",
   "metadata": {},
   "outputs": [],
   "source": [
    "#Q1, Create a vehicle class with an init method having instance variables as name_of_vehicle, max_speed and average_of_vehicle.\n",
    "\n",
    "class vehicle:\n",
    "    def __init__(self,name,speed,average):\n",
    "        self.name_of_vehicle=name\n",
    "        self.max_speed=speed\n",
    "        self.average_of_vehicle=average\n",
    "        \n",
    "        "
   ]
  },
  {
   "cell_type": "code",
   "execution_count": 8,
   "id": "16e1117a-591a-443e-8e2d-5cb6073db7ce",
   "metadata": {},
   "outputs": [
    {
     "name": "stdout",
     "output_type": "stream",
     "text": [
      "tata has a seating capacity of 7.\n"
     ]
    }
   ],
   "source": [
    "\"\"\"Q2. Create a child class car from the vehicle class created in Que 1,which will inherit the vehicle class.\n",
    "Create a method named seating_capacity which takes capacity as an argument and returns the name of the vehicle and its seating capacity.\"\"\"\n",
    "\n",
    "\n",
    "class Car(vehicle):\n",
    "    def seating_capacity(self, capacity):\n",
    "        return f\"{self.name_of_vehicle} has a seating capacity of {capacity}.\"\n",
    "\n",
    "car = Car(\"tata\", 200, 30)\n",
    "print(car.seating_capacity(7))\n"
   ]
  },
  {
   "cell_type": "code",
   "execution_count": 132,
   "id": "5f5154c1-0453-4ed3-89f4-a01a22e7d3fd",
   "metadata": {},
   "outputs": [],
   "source": [
    "#Q3. What is multiple inheritance? Write a python code to demonstrate multiple inheritance.\n",
    "\n",
    "#if a child class inherits from more than one class we call it multiple inheritance in Python.\n",
    "\n",
    "class class1:\n",
    "    def fun1(self):\n",
    "        print('this is my class 1')\n",
    "        \n",
    "        \n",
    "\n",
    "class class2:\n",
    "    def fun2(self):\n",
    "        print('this is my class 2')\n",
    "\n",
    "        \n",
    "class child_class(class1,class2):\n",
    "    \n",
    "    pass\n",
    "        "
   ]
  },
  {
   "cell_type": "code",
   "execution_count": 133,
   "id": "430927ca-d8c3-4f0c-99d9-79cea5383023",
   "metadata": {},
   "outputs": [],
   "source": [
    "child_class=child_class()"
   ]
  },
  {
   "cell_type": "code",
   "execution_count": 136,
   "id": "f7d3dc97-3054-480d-b61e-20236ac7f05b",
   "metadata": {},
   "outputs": [
    {
     "name": "stdout",
     "output_type": "stream",
     "text": [
      "this is my class 2\n"
     ]
    }
   ],
   "source": [
    "child_class.fun2()"
   ]
  },
  {
   "cell_type": "code",
   "execution_count": 137,
   "id": "29fa0e3a-79e5-4026-96df-24ff00978192",
   "metadata": {},
   "outputs": [
    {
     "name": "stdout",
     "output_type": "stream",
     "text": [
      "this is my class 1\n"
     ]
    }
   ],
   "source": [
    "child_class.fun1()"
   ]
  },
  {
   "cell_type": "code",
   "execution_count": null,
   "id": "473d2cab-c073-452e-8468-15c3f741f3ed",
   "metadata": {},
   "outputs": [],
   "source": [
    "\n",
    "\n"
   ]
  },
  {
   "cell_type": "code",
   "execution_count": 127,
   "id": "ebdc3001-36b4-4c51-986e-bcefa2fdd3b1",
   "metadata": {},
   "outputs": [],
   "source": [
    "#Q4. What are getter and setter in python? Create a class and create a getter and a setter method in this class.\n",
    "\n",
    "\n",
    "#Getter: A method that allows you to access an attribute in a given class. \n",
    "#Setter: A method that allows you to set or mutate the value of an attribute in a class.\n",
    "\n",
    "class suvho:\n",
    "     \n",
    "     # function to get value of _age\n",
    "     def get_age(self):\n",
    "         print(\"getter method called\")\n",
    "         return self._age\n",
    "       \n",
    "     # function to set value of _age\n",
    "     def set_age(self, a):\n",
    "         print(\"setter method called\")\n",
    "         self._age = a\n",
    "  \n",
    "\n",
    "        "
   ]
  },
  {
   "cell_type": "code",
   "execution_count": 128,
   "id": "754cc1a6-052d-4468-a4bb-94f411e42d11",
   "metadata": {},
   "outputs": [],
   "source": [
    "b=suvho()"
   ]
  },
  {
   "cell_type": "code",
   "execution_count": 129,
   "id": "de109ac4-b91f-40c1-a792-b6913b260c31",
   "metadata": {},
   "outputs": [
    {
     "name": "stdout",
     "output_type": "stream",
     "text": [
      "setter method called\n"
     ]
    }
   ],
   "source": [
    "b.set_age(23)"
   ]
  },
  {
   "cell_type": "code",
   "execution_count": 130,
   "id": "4c8f52b4-959b-4bc1-8ab4-a7d6f5448479",
   "metadata": {},
   "outputs": [
    {
     "name": "stdout",
     "output_type": "stream",
     "text": [
      "getter method called\n"
     ]
    },
    {
     "data": {
      "text/plain": [
       "23"
      ]
     },
     "execution_count": 130,
     "metadata": {},
     "output_type": "execute_result"
    }
   ],
   "source": [
    "b.get_age()"
   ]
  },
  {
   "cell_type": "code",
   "execution_count": null,
   "id": "aca69111-1fd7-49d4-a87d-bf7daa35cd97",
   "metadata": {},
   "outputs": [],
   "source": [
    "\n",
    "\n"
   ]
  },
  {
   "cell_type": "code",
   "execution_count": null,
   "id": "811055f2-e302-4284-a483-ee2be3b51347",
   "metadata": {},
   "outputs": [],
   "source": []
  },
  {
   "cell_type": "code",
   "execution_count": 15,
   "id": "d284b3ac-087e-4400-b4e4-58c2dc41cf58",
   "metadata": {},
   "outputs": [],
   "source": [
    "#Q5.What is method overriding in python? Write a python code to demonstrate method overriding.\n",
    " \n",
    "#method overriding is a method where we override a perent class by child class.\n",
    "\n",
    "class father:\n",
    "    def age(self):\n",
    "        print(50)\n",
    "\n",
    "class son(father) :\n",
    "\n",
    "     def age(self):\n",
    "        print(23)\n",
    "        \n",
    "            "
   ]
  },
  {
   "cell_type": "code",
   "execution_count": 16,
   "id": "d309e674-ca24-47fd-af26-270abe646660",
   "metadata": {},
   "outputs": [],
   "source": [
    "son=son()"
   ]
  },
  {
   "cell_type": "code",
   "execution_count": 18,
   "id": "5e07ebf8-cc74-4728-8902-45230b9f7413",
   "metadata": {},
   "outputs": [
    {
     "name": "stdout",
     "output_type": "stream",
     "text": [
      "23\n"
     ]
    }
   ],
   "source": [
    "son.age() #here we overriding parent class using child class."
   ]
  },
  {
   "cell_type": "code",
   "execution_count": null,
   "id": "b242f8ca-0cb7-4217-b5d7-6f677592228f",
   "metadata": {},
   "outputs": [],
   "source": []
  },
  {
   "cell_type": "code",
   "execution_count": null,
   "id": "d0a7b010-795a-450b-9b97-54d6f8f6f6d7",
   "metadata": {},
   "outputs": [],
   "source": []
  }
 ],
 "metadata": {
  "kernelspec": {
   "display_name": "Python 3 (ipykernel)",
   "language": "python",
   "name": "python3"
  },
  "language_info": {
   "codemirror_mode": {
    "name": "ipython",
    "version": 3
   },
   "file_extension": ".py",
   "mimetype": "text/x-python",
   "name": "python",
   "nbconvert_exporter": "python",
   "pygments_lexer": "ipython3",
   "version": "3.10.8"
  }
 },
 "nbformat": 4,
 "nbformat_minor": 5
}
