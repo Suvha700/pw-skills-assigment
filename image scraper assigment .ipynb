{
 "cells": [
  {
   "cell_type": "markdown",
   "id": "2330eae2",
   "metadata": {},
   "source": [
    "Go to this given URL and solve the following questions\n",
    "URL: https://www.youtube.com/@PW-Foundation/videos\n"
   ]
  },
  {
   "cell_type": "code",
   "execution_count": 1,
   "id": "cc90bb10",
   "metadata": {},
   "outputs": [
    {
     "name": "stdout",
     "output_type": "stream",
     "text": [
      "Requirement already satisfied: selenium==2.33 in c:\\users\\sabyasachi\\anaconda3\\lib\\site-packages (2.33.0)\n",
      "Note: you may need to restart the kernel to use updated packages.\n"
     ]
    }
   ],
   "source": [
    "pip install selenium==2.33"
   ]
  },
  {
   "cell_type": "code",
   "execution_count": 2,
   "id": "cf7aacc4",
   "metadata": {},
   "outputs": [],
   "source": [
    "from selenium import webdriver\n",
    "from selenium.webdriver.common.by import By\n",
    "from selenium.webdriver.support.ui import WebDriverWait\n",
    "from selenium.webdriver.support import expected_conditions as ec"
   ]
  },
  {
   "cell_type": "code",
   "execution_count": 3,
   "id": "cf361135",
   "metadata": {},
   "outputs": [],
   "source": [
    "path=\"C:\\Program Files (x86)\\chromedriver.exe\" #this is our path of chromedriver"
   ]
  },
  {
   "cell_type": "code",
   "execution_count": 4,
   "id": "c86444a4",
   "metadata": {},
   "outputs": [],
   "source": [
    "driver=webdriver.Chrome(executable_path=path,port=0)  #here i create driver to oprate our work"
   ]
  },
  {
   "cell_type": "code",
   "execution_count": 5,
   "id": "2c7de818",
   "metadata": {},
   "outputs": [],
   "source": [
    "wait=WebDriverWait(driver,50)"
   ]
  },
  {
   "cell_type": "code",
   "execution_count": 6,
   "id": "1c8e8964",
   "metadata": {},
   "outputs": [],
   "source": [
    "driver.get(\" https://www.youtube.com/@PW-Foundation/videos\")  #this is our link of youtube channel"
   ]
  },
  {
   "cell_type": "code",
   "execution_count": null,
   "id": "7bb80125",
   "metadata": {},
   "outputs": [],
   "source": []
  },
  {
   "cell_type": "markdown",
   "id": "4679d1af",
   "metadata": {},
   "source": [
    "#Q1 Write a python program to extract the video URL of the first five videos.\n"
   ]
  },
  {
   "cell_type": "code",
   "execution_count": 7,
   "id": "9b0462e1",
   "metadata": {},
   "outputs": [],
   "source": [
    "l=driver.find_elements_by_xpath('//*[@id=\"thumbnail\"]')  # in this line we copy and past xpath of link element"
   ]
  },
  {
   "cell_type": "code",
   "execution_count": 8,
   "id": "14b16186",
   "metadata": {},
   "outputs": [],
   "source": [
    "link=[]    \n",
    "for i in l:      # here we run a for loop for exctract link one by one and append in link list\n",
    "    a=(i.get_attribute(\"href\"))\n",
    "    link.append(a)"
   ]
  },
  {
   "cell_type": "code",
   "execution_count": 9,
   "id": "083ecbe0",
   "metadata": {},
   "outputs": [
    {
     "data": {
      "text/plain": [
       "['https://www.youtube.com/watch?v=ZLgLCNKQwFw',\n",
       " 'https://www.youtube.com/watch?v=jXAb1evxaJc',\n",
       " 'https://www.youtube.com/watch?v=HqG2QchBw8Y',\n",
       " 'https://www.youtube.com/watch?v=RPCHRtdO9hg',\n",
       " 'https://www.youtube.com/watch?v=J7hFajBOmBo']"
      ]
     },
     "execution_count": 9,
     "metadata": {},
     "output_type": "execute_result"
    }
   ],
   "source": [
    "link1 = list(set(link)) #here we filter the duplicat link in our list\n",
    "first_5_video_link=link1[:5]  # and here we have our first 5 videos link\n",
    "first_5_video_link"
   ]
  },
  {
   "cell_type": "markdown",
   "id": "fab11aae",
   "metadata": {},
   "source": [
    "#Q2. Write a python program to extract the URL of the video thumbnails of the first five videos.\n",
    "\n"
   ]
  },
  {
   "cell_type": "code",
   "execution_count": 10,
   "id": "44adbc50",
   "metadata": {},
   "outputs": [],
   "source": [
    "im=driver.find_elements_by_xpath('//*[@id=\"thumbnail\"]/yt-image/img')"
   ]
  },
  {
   "cell_type": "code",
   "execution_count": 11,
   "id": "d0141767",
   "metadata": {},
   "outputs": [],
   "source": [
    "img=[]\n",
    "for i in im:\n",
    "    k=(i.get_attribute(\"src\"))\n",
    "    img.append(k)\n",
    "    "
   ]
  },
  {
   "cell_type": "code",
   "execution_count": 12,
   "id": "320d3c5a",
   "metadata": {},
   "outputs": [
    {
     "data": {
      "text/plain": [
       "['https://i.ytimg.com/vi/LuTONVLzESM/hqdefault.jpg?sqp=-oaymwEcCNACELwBSFXyq4qpAw4IARUAAIhCGAFwAcABBg==&rs=AOn4CLCaMVZmPmUqryYudQm6lobkny_-Cg',\n",
       " 'https://i.ytimg.com/vi/KWXKegvNa-I/hqdefault.jpg?sqp=-oaymwEcCNACELwBSFXyq4qpAw4IARUAAIhCGAFwAcABBg==&rs=AOn4CLAZ9XEzNrcu4YfUzbEfohE3CdXIVw',\n",
       " 'https://i.ytimg.com/vi/dArUpCasmnE/hqdefault.jpg?sqp=-oaymwEcCNACELwBSFXyq4qpAw4IARUAAIhCGAFwAcABBg==&rs=AOn4CLCdiUURSFwzHKBaqzNQnNYVFf1PZA']"
      ]
     },
     "execution_count": 12,
     "metadata": {},
     "output_type": "execute_result"
    }
   ],
   "source": [
    "filtered_list = list(set([x for x in img if x is not None]))\n",
    "first_5_video_thumbnails=filtered_list[:5]\n",
    "first_5_video_thumbnails"
   ]
  },
  {
   "cell_type": "code",
   "execution_count": null,
   "id": "9dd24630",
   "metadata": {},
   "outputs": [],
   "source": []
  },
  {
   "cell_type": "markdown",
   "id": "38750cc7",
   "metadata": {},
   "source": [
    "#Q3. Write a python program to extract the title of the first five videos.\n"
   ]
  },
  {
   "cell_type": "code",
   "execution_count": 16,
   "id": "b133abe9",
   "metadata": {},
   "outputs": [],
   "source": [
    "a=driver.find_elements_by_xpath('//*[@id=\"video-title-link\"]')"
   ]
  },
  {
   "cell_type": "code",
   "execution_count": 17,
   "id": "aa96f65d",
   "metadata": {},
   "outputs": [],
   "source": [
    "t=[]\n",
    "for i in a:\n",
    "    k=i.get_attribute(\"title\")\n",
    "    t.append(k)\n",
    "    "
   ]
  },
  {
   "cell_type": "code",
   "execution_count": 18,
   "id": "8365faf4",
   "metadata": {},
   "outputs": [
    {
     "data": {
      "text/plain": [
       "['UDAAN Hindi Batch 🔥| Class 10th वालों के बच्चें के लिए Surprises 🎉🎉 #3SaalLajawaab',\n",
       " 'ARTS की दुनिया की PAHAL 🔥 || Launching Class 11th ARTS BATCH',\n",
       " '⚡Unleashing the Power of PW Internationally⚡| Launching Physics Wallah Gulf',\n",
       " 'How To Plan Maths Strategy For Class -10th To Score 95%+ Marks || CBSE Boards 🔥',\n",
       " 'Something Big Coming Soon For Class - 9th & 10th Students 🔥 || Stay Tuned For More Updates 🖋️']"
      ]
     },
     "execution_count": 18,
     "metadata": {},
     "output_type": "execute_result"
    }
   ],
   "source": [
    "filtered_list = list(set([x for x in t if x is not None]))\n",
    "first_5_videos_title=filtered_list[:5]\n",
    "first_5_videos_title"
   ]
  },
  {
   "cell_type": "code",
   "execution_count": null,
   "id": "2593763d",
   "metadata": {},
   "outputs": [],
   "source": []
  },
  {
   "cell_type": "markdown",
   "id": "1b4528ca",
   "metadata": {},
   "source": [
    "#Q4. Write a python program to extract the number of views of the first five videos.\n"
   ]
  },
  {
   "cell_type": "code",
   "execution_count": 30,
   "id": "d387d2c5",
   "metadata": {},
   "outputs": [],
   "source": [
    "a=driver.find_elements_by_xpath('//*[@id=\"metadata-line\"]/span[1]')"
   ]
  },
  {
   "cell_type": "code",
   "execution_count": 33,
   "id": "6ae57e4d",
   "metadata": {},
   "outputs": [],
   "source": [
    "vi=[]\n",
    "for i in  a:\n",
    "    vi.append(i.text)"
   ]
  },
  {
   "cell_type": "code",
   "execution_count": 34,
   "id": "39b7e89f",
   "metadata": {},
   "outputs": [
    {
     "data": {
      "text/plain": [
       "['18K views', '41K views', '34K views', '27K views', '71K views']"
      ]
     },
     "execution_count": 34,
     "metadata": {},
     "output_type": "execute_result"
    }
   ],
   "source": [
    "first_5_videos_views=vi[:5]\n",
    "first_5_videos_views"
   ]
  },
  {
   "cell_type": "code",
   "execution_count": null,
   "id": "f561ff79",
   "metadata": {},
   "outputs": [],
   "source": []
  },
  {
   "cell_type": "markdown",
   "id": "4072e9b0",
   "metadata": {},
   "source": [
    "#Q5. Write a python program to extract the time of posting of video for the first five videos.\n"
   ]
  },
  {
   "cell_type": "code",
   "execution_count": 37,
   "id": "1aa2e7f2",
   "metadata": {},
   "outputs": [],
   "source": [
    "a=driver.find_elements_by_xpath('//*[@id=\"metadata-line\"]/span[2]')[:5]"
   ]
  },
  {
   "cell_type": "code",
   "execution_count": 39,
   "id": "9c64c7ec",
   "metadata": {},
   "outputs": [],
   "source": [
    "ti=[]\n",
    "for i in a:\n",
    "    ti.append(i.text)"
   ]
  },
  {
   "cell_type": "code",
   "execution_count": 40,
   "id": "aa5e650d",
   "metadata": {},
   "outputs": [
    {
     "data": {
      "text/plain": [
       "['12 days ago', '3 weeks ago', '4 weeks ago', '1 month ago', '1 month ago']"
      ]
     },
     "execution_count": 40,
     "metadata": {},
     "output_type": "execute_result"
    }
   ],
   "source": [
    "time_of_first_5_videos=ti\n",
    "time_of_first_5_videos"
   ]
  },
  {
   "cell_type": "code",
   "execution_count": null,
   "id": "a0a6889f",
   "metadata": {},
   "outputs": [],
   "source": []
  }
 ],
 "metadata": {
  "kernelspec": {
   "display_name": "Python 3 (ipykernel)",
   "language": "python",
   "name": "python3"
  },
  "language_info": {
   "codemirror_mode": {
    "name": "ipython",
    "version": 3
   },
   "file_extension": ".py",
   "mimetype": "text/x-python",
   "name": "python",
   "nbconvert_exporter": "python",
   "pygments_lexer": "ipython3",
   "version": "3.10.9"
  }
 },
 "nbformat": 4,
 "nbformat_minor": 5
}
