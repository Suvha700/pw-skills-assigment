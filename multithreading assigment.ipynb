{
 "cells": [
  {
   "cell_type": "code",
   "execution_count": 2,
   "id": "0e54977e-6893-4b7c-b827-9a6b4e2afb1d",
   "metadata": {},
   "outputs": [],
   "source": [
    "#q1. what is multithreading in python? why is it used? Name the module used to handle threads in python\n",
    "#Multithreading in Python refers to the concurrent execution of multiple threads within a single process. \n",
    "#Multithreading is used in Python to achieve parallelism and improve the performance of programs that involve tasks that can be executed independently. \n",
    "#The module used to handle threads in Python is called threading. \n",
    "\n"
   ]
  },
  {
   "cell_type": "code",
   "execution_count": null,
   "id": "ce30fae0-20b4-4dfe-a010-f6b2cdf7c54b",
   "metadata": {},
   "outputs": [],
   "source": []
  },
  {
   "cell_type": "code",
   "execution_count": 3,
   "id": "84df19d1-3b0e-4c59-b415-3da1319700c5",
   "metadata": {},
   "outputs": [],
   "source": [
    "#q2. why threading module used? rite the use of the following functions\n",
    "#activeCount()\n",
    "#currentThread()\n",
    "#enumerate()\n",
    "\n",
    "#The threading module is used in Python to handle threads and achieve concurrent execution.\n",
    "# activeCount()::- This function returns the number of Thread objects currently alive. It is used to get the count of active threads in a program.\n",
    "#currentThread():- This function returns the current Thread object corresponding to the caller's thread of control.\n",
    "# enumerate():- This function returns a list of all Thread objects currently alive. It is used to get a list of all active threads in a program."
   ]
  },
  {
   "cell_type": "code",
   "execution_count": null,
   "id": "db115b40-0cf4-41fd-b524-1886067a52d6",
   "metadata": {},
   "outputs": [],
   "source": []
  },
  {
   "cell_type": "code",
   "execution_count": 4,
   "id": "eb3ec3ca-f2d5-44f3-90e7-61149b5bdfcb",
   "metadata": {},
   "outputs": [],
   "source": [
    "#q3. Explain the following functions\n",
    "#run():- The run() method is the entry point for a thread. It defines the behavior of the thread when it is executed.\n",
    "#start():-The start() method is used to start a thread's activity. \n",
    "#join():-The join() method is used to wait for a thread to complete its execution. It blocks the calling thread until the thread whose join() method is called terminates. \n",
    "#isAlive():-The isAlive() method is used to check if a thread is still alive or has completed its execution. It returns True if the thread is still running, and False otherwise.\n"
   ]
  },
  {
   "cell_type": "code",
   "execution_count": null,
   "id": "7ecc109f-a1df-45a3-b09e-304bd5ca3021",
   "metadata": {},
   "outputs": [],
   "source": []
  },
  {
   "cell_type": "code",
   "execution_count": 9,
   "id": "1bc79995-d614-488b-bbd0-83b789df459f",
   "metadata": {},
   "outputs": [
    {
     "name": "stdout",
     "output_type": "stream",
     "text": [
      "1\n",
      "4\n",
      "9\n",
      "16\n",
      "25\n",
      "36\n",
      "49\n",
      "64\n",
      "81\n",
      "100\n",
      "1\n",
      "8\n",
      "27\n",
      "64\n",
      "125\n",
      "216\n",
      "343\n",
      "512\n",
      "729\n",
      "1000\n"
     ]
    }
   ],
   "source": [
    "#q4. write a python program to create two threads. Thread one must print the list of squares and thread two must print the list of cubes\n",
    "\n",
    "import threading\n",
    "\n",
    "def print_squares():\n",
    "    squares = [x**2 for x in range(1, 11)] # printing squares for 1 to 10\n",
    "    for square in squares:\n",
    "        print(square)\n",
    "\n",
    "def print_cubes():\n",
    "    cubes = [x**3 for x in range(1, 11)] # printing cube for 1 to 10\n",
    "    for cube in cubes:\n",
    "        print(cube)\n",
    "\n",
    "if __name__ == \"__main__\":\n",
    "    # Create thread one\n",
    "    t1 = threading.Thread(target=print_squares)\n",
    "    \n",
    "    # Create thread two\n",
    "    t2 = threading.Thread(target=print_cubes)\n",
    "    \n",
    "    t1.start()\n",
    "    t2.start()\n",
    "    \n",
    "\n",
    "    t1.join()\n",
    "    t2.join()\n",
    " \n",
    "\n"
   ]
  },
  {
   "cell_type": "code",
   "execution_count": null,
   "id": "e4c4a228-d50c-4761-ac6e-c0368c62be67",
   "metadata": {},
   "outputs": [],
   "source": []
  },
  {
   "cell_type": "code",
   "execution_count": 10,
   "id": "048c2ffb-dc91-4f6d-bc3c-4f3eb3694f6e",
   "metadata": {},
   "outputs": [],
   "source": [
    "#q5. State advantages and disadvantages of multithreading\n",
    "\n",
    "# advantegs:-\n",
    "# Multithreading allows multiple tasks to be executed simultaneousl\n",
    "# Multithreading can simplify the programming process by allowing developers to divide complex tasks into smaller\n",
    " \n",
    "# disadvantages:-\n",
    "# Multithreaded programs can be more complex to design, implement, and debug compared to single-threaded programs\n",
    "#  Each thread requires its own stack space and thread-specific data structures, which can increase memory usage compared to single-threaded programs. \n",
    "\n",
    "\n"
   ]
  },
  {
   "cell_type": "code",
   "execution_count": null,
   "id": "756673e7-776a-43de-81bb-ffddc1b68fea",
   "metadata": {},
   "outputs": [],
   "source": []
  },
  {
   "cell_type": "code",
   "execution_count": 18,
   "id": "7cb727f2-48e5-44b7-8fb7-5e1cea152a9e",
   "metadata": {},
   "outputs": [],
   "source": [
    "#q6.Explain deadlocks and race conditions.\n",
    "# deadlock occurs when two or more threads are blocked indefinitely, waiting for each other to release resources that they hold. This can happen when each thread holds a resource that the other thread needs to proceed,\n",
    "# "
   ]
  },
  {
   "cell_type": "code",
   "execution_count": null,
   "id": "1f8d03d0-6332-407e-b9e2-e2b251f47b94",
   "metadata": {},
   "outputs": [],
   "source": []
  },
  {
   "cell_type": "code",
   "execution_count": null,
   "id": "6b2ac3c4-e4b1-4550-9523-e1df016c7a64",
   "metadata": {},
   "outputs": [],
   "source": []
  },
  {
   "cell_type": "code",
   "execution_count": null,
   "id": "70edf1db-680d-41c8-89e2-bb775ef7096b",
   "metadata": {},
   "outputs": [],
   "source": []
  }
 ],
 "metadata": {
  "kernelspec": {
   "display_name": "Python 3 (ipykernel)",
   "language": "python",
   "name": "python3"
  },
  "language_info": {
   "codemirror_mode": {
    "name": "ipython",
    "version": 3
   },
   "file_extension": ".py",
   "mimetype": "text/x-python",
   "name": "python",
   "nbconvert_exporter": "python",
   "pygments_lexer": "ipython3",
   "version": "3.10.8"
  }
 },
 "nbformat": 4,
 "nbformat_minor": 5
}
