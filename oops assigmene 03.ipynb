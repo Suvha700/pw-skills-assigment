{
 "cells": [
  {
   "cell_type": "code",
   "execution_count": 6,
   "id": "f05b5e6e-8448-4363-8239-180f7d5356ea",
   "metadata": {},
   "outputs": [],
   "source": [
    "#Q1. What is Abstraction in OOps? Explain with an example.\n",
    "\n",
    "\"\"\"Abstraction is the process of hiding the internal details of an application from the outer world.\n",
    "Abstraction is used to describe things in simple terms. It’s used to create a boundary between the application and the client programs.\"\"\"\n",
    "\n",
    "#example-- \n",
    "\"\"\"if have a taking a selfi on my phone i have to click and pic shows in my gallery,\n",
    "but we do not have access to see the program runing in background how program process the colour and light.\"\"\""
   ]
  },
  {
   "cell_type": "code",
   "execution_count": null,
   "id": "b9f5211f-0963-4039-b3b1-0a57519c6106",
   "metadata": {},
   "outputs": [],
   "source": []
  },
  {
   "cell_type": "code",
   "execution_count": 3,
   "id": "5025db69-f9bf-4a68-adf1-f37f3ca18a8a",
   "metadata": {},
   "outputs": [
    {
     "data": {
      "text/plain": [
       "'In encapsulation, the variables of a class are hidden from other classes, and can be accessed only by methods of the current class.\\n  Therefore, encapsulation is also called data hiding'"
      ]
     },
     "execution_count": 3,
     "metadata": {},
     "output_type": "execute_result"
    }
   ],
   "source": [
    "#Q2. Differentiate between Abstraction and Encapsulation. Explain with an example.\n",
    "\n",
    "# abstraction is the process of hiding unnessery detals, but encapsulation is hiding data and access it in a control way.\n",
    "\n",
    "#exp-- abstraction\n",
    "\"\"\"For example, when we consider the case of a search on google, complex details such as what happens as soon as we search about a query,\n",
    "   the protocol our web server uses are hidden. Therefore, to make a search on google we just need to type the query, \n",
    "   and click on the search button.\"\"\"\n",
    "#exp-- encapsulation\n",
    "\"\"\"In encapsulation, the variables of a class are hidden from other classes, and can be accessed only by methods of the current class.\n",
    "  Therefore, encapsulation is also called data hiding\"\"\""
   ]
  },
  {
   "cell_type": "code",
   "execution_count": null,
   "id": "524aaf9c-152a-4904-9b5e-86e8dba0bea0",
   "metadata": {},
   "outputs": [],
   "source": []
  },
  {
   "cell_type": "code",
   "execution_count": 1,
   "id": "faa6da8f-3df8-4b71-8155-b296dc8526a6",
   "metadata": {},
   "outputs": [],
   "source": [
    "#Q3. What is abc module in python? Why is it used?\n",
    "\n",
    "#The 'abc' module in Python library provides the infrastructure for defining custom abstract base classes\n",
    "# abc module used for define any base class to abstraction base class'"
   ]
  },
  {
   "cell_type": "code",
   "execution_count": null,
   "id": "92b3fa07-7a9b-4ab7-87b9-3ff9f4c81695",
   "metadata": {},
   "outputs": [],
   "source": []
  },
  {
   "cell_type": "code",
   "execution_count": 4,
   "id": "9dc009a6-91b0-4598-9a1f-670aeb09ca58",
   "metadata": {},
   "outputs": [],
   "source": [
    "#Q4. How can we achieve data abstraction?\n",
    "\n",
    "#by using the abstract keyword for classes and interfaces. "
   ]
  },
  {
   "cell_type": "code",
   "execution_count": null,
   "id": "c325e824-a6d1-420d-85d0-97bd9f77a31d",
   "metadata": {},
   "outputs": [],
   "source": []
  },
  {
   "cell_type": "code",
   "execution_count": 4,
   "id": "66b07d73-39f2-4cd9-9e57-5d00eca9654c",
   "metadata": {},
   "outputs": [],
   "source": [
    "#Q5. Can we create an instance of an abstract class? Explain your answer.\n",
    "\n",
    "\"\"\"No we can not create an instance of an abstract class.\n",
    "\n",
    "Abstract classes are not complete, as they may have some methods that are not defined.\n",
    "So we cannot create an instance or object of an abstract class in Python.\n",
    "If we try to instantiate the abstract class, it raises an error."
   ]
  },
  {
   "cell_type": "code",
   "execution_count": null,
   "id": "7ded62c6-eea8-49e1-9122-ace8b25edc0d",
   "metadata": {},
   "outputs": [],
   "source": []
  }
 ],
 "metadata": {
  "kernelspec": {
   "display_name": "Python 3 (ipykernel)",
   "language": "python",
   "name": "python3"
  },
  "language_info": {
   "codemirror_mode": {
    "name": "ipython",
    "version": 3
   },
   "file_extension": ".py",
   "mimetype": "text/x-python",
   "name": "python",
   "nbconvert_exporter": "python",
   "pygments_lexer": "ipython3",
   "version": "3.10.8"
  }
 },
 "nbformat": 4,
 "nbformat_minor": 5
}
