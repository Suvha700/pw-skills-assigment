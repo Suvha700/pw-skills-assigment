{
 "cells": [
  {
   "cell_type": "code",
   "execution_count": 1,
   "id": "2e0ea45c-3f0e-4163-a039-95bec949460d",
   "metadata": {},
   "outputs": [],
   "source": [
    "# Q1. What is multiprocessing in python? Why is it useful?\n",
    "\n",
    "#Multiprocessing in Python refers to the ability of the Python programming language to create and manage multiple processes simultaneously.\n",
    "\n",
    "#Multiprocessing is useful in Python for several reasons:\n",
    "\n",
    "\"By utilizing multiple processes, multiprocessing allows for parallel execution of tasks, which can significantly improve the performance and speed of certain types of programs.\"\n",
    "\" Modern computers often have multiple CPU cores, and multiprocessing enables Python programs to make use of these cores effectively. By distributing the workload across multiple cores\"\n",
    "\" In multiprocessing, each process runs in its own memory space, which provides isolation between processes.\"\n",
    "\n",
    "\n"
   ]
  },
  {
   "cell_type": "code",
   "execution_count": null,
   "id": "48c4ab84-9e52-40fa-bdcc-832ab3f15ae5",
   "metadata": {},
   "outputs": [],
   "source": []
  },
  {
   "cell_type": "code",
   "execution_count": 11,
   "id": "e775c633-a5dc-4b4a-ad9b-ae8ca753d887",
   "metadata": {},
   "outputs": [
    {
     "data": {
      "text/plain": [
       "'Multiprocessing typically has higher overhead compared to multithreading due to the need for inter-process communication and memory management.\\nCreating and managing multiple processes can be more expensive in terms of resources compared to creating and managing multiple threads'"
      ]
     },
     "execution_count": 11,
     "metadata": {},
     "output_type": "execute_result"
    }
   ],
   "source": [
    "# Q2. What are the differences between multiprocessing and multithreading?\n",
    "\n",
    "\"\"\"In multiprocessing, multiple processes are created and executed concurrently,\n",
    "each running in its own memory space. In multithreading, multiple threads are created within a single process,\n",
    "sharing the same memory space.\"\"\"\n",
    "\n",
    "\n",
    "\"\"\"Multiprocessing allows for true parallelism, as each process can run on a separate CPU core.\n",
    "Multithreading, on the other hand, achieves concurrency by interleaving the execution of multiple threads on a single CPU core through time-sharing.\"\"\"\n",
    "\n",
    "\n",
    "\"\"\"Multiprocessing typically has higher overhead compared to multithreading due to the need for inter-process communication and memory management.\n",
    "Creating and managing multiple processes can be more expensive in terms of resources compared to creating and managing multiple threads\"\"\"\n",
    "\n"
   ]
  },
  {
   "cell_type": "code",
   "execution_count": null,
   "id": "6b28445d-c270-4f74-bfad-6c42243643cf",
   "metadata": {},
   "outputs": [],
   "source": []
  },
  {
   "cell_type": "code",
   "execution_count": 13,
   "id": "870952f5-93d6-46ed-ae81-24fe9e6349eb",
   "metadata": {},
   "outputs": [
    {
     "name": "stdout",
     "output_type": "stream",
     "text": [
      "Process is running\n",
      "Process has completed\n"
     ]
    }
   ],
   "source": [
    "# Q3. Write a python code to create a process using the multiprocessing module.\n",
    "import multiprocessing\n",
    "def my_function():\n",
    "    print(\"Process is running\")\n",
    "\n",
    "if __name__ == \"__main__\":\n",
    "    my_process = multiprocessing.Process(target=my_function)\n",
    "    my_process.start()\n",
    "    my_process.join()\n",
    "    print(\"Process has completed\")\n",
    "\n"
   ]
  },
  {
   "cell_type": "code",
   "execution_count": null,
   "id": "fd88c833-6165-4d9c-86a9-4ea06aba9d7d",
   "metadata": {},
   "outputs": [],
   "source": []
  },
  {
   "cell_type": "code",
   "execution_count": 4,
   "id": "1bc8a0f0-0bf5-4630-8e4c-002322e537e1",
   "metadata": {},
   "outputs": [],
   "source": [
    "# Q4. What is a multiprocessing pool in python? Why is it used?\n",
    "\n",
    "# A multiprocessing pool in Python is a way to create a pool of worker processes that can execute tasks concurrently. \n",
    "# It is used to distribute tasks across multiple processes, allowing for parallel processing and improved performance\n",
    "\n",
    "\n",
    "\n"
   ]
  },
  {
   "cell_type": "code",
   "execution_count": null,
   "id": "72404d9d-f930-498b-9e8f-6cdfc4780667",
   "metadata": {},
   "outputs": [],
   "source": []
  },
  {
   "cell_type": "code",
   "execution_count": 6,
   "id": "f9e0dc89-b930-4cfc-b7ca-34b79f3d4bdb",
   "metadata": {},
   "outputs": [
    {
     "data": {
      "text/plain": [
       "[2, 4, 6, 8]"
      ]
     },
     "execution_count": 6,
     "metadata": {},
     "output_type": "execute_result"
    }
   ],
   "source": [
    "# Q5. How can we create a pool of worker processes in python using the multiprocessing module?\n",
    "\n",
    "\n",
    "from multiprocessing import Pool\n",
    "\n",
    "\n",
    "def worker_function(arg):\n",
    "    # Perform the task\n",
    "    result = arg*2\n",
    "    return result\n",
    "\n",
    "pool = Pool(processes=4)  # Number of worker processes = 4\n",
    "\n",
    "\n",
    "input_data = [1,2,3,4]  # List of input arguments for each task\n",
    "results = pool.map(worker_function, input_data )\n",
    "\n",
    "\n",
    "pool.close()\n",
    "pool.join()\n",
    "\n",
    "\n",
    "results\n"
   ]
  },
  {
   "cell_type": "code",
   "execution_count": null,
   "id": "3e257f77-2af2-4293-ad8f-25e4c2ad3817",
   "metadata": {},
   "outputs": [],
   "source": []
  },
  {
   "cell_type": "code",
   "execution_count": 13,
   "id": "49eb2b34-10a8-4e73-abd4-7060820a8334",
   "metadata": {},
   "outputs": [
    {
     "name": "stdout",
     "output_type": "stream",
     "text": [
      "2134\n",
      "\n",
      "\n",
      "\n"
     ]
    }
   ],
   "source": [
    "# Q6. Write a python program to create 4 processes, each process should print a different number using the multiprocessing module in python.\n",
    "\n",
    "\n",
    "from multiprocessing import Pool\n",
    "\n",
    "def print_number(number):\n",
    "    print(number)\n",
    "\n",
    "if __name__ == '__main__':\n",
    "    pool = Pool(processes=4)\n",
    "    \n",
    "    numbers = [1, 2, 3, 4]\n",
    "    pool.map(print_number, numbers)\n",
    "    \n",
    "    pool.close()\n",
    "    pool.join\n"
   ]
  },
  {
   "cell_type": "code",
   "execution_count": null,
   "id": "fbb3a88e-715f-48a1-8e55-e7f2ac85aabf",
   "metadata": {},
   "outputs": [],
   "source": []
  },
  {
   "cell_type": "code",
   "execution_count": null,
   "id": "a59a0825-4db2-4e3c-95bc-aac4d557d6e2",
   "metadata": {},
   "outputs": [],
   "source": []
  }
 ],
 "metadata": {
  "kernelspec": {
   "display_name": "Python 3 (ipykernel)",
   "language": "python",
   "name": "python3"
  },
  "language_info": {
   "codemirror_mode": {
    "name": "ipython",
    "version": 3
   },
   "file_extension": ".py",
   "mimetype": "text/x-python",
   "name": "python",
   "nbconvert_exporter": "python",
   "pygments_lexer": "ipython3",
   "version": "3.10.8"
  }
 },
 "nbformat": 4,
 "nbformat_minor": 5
}
