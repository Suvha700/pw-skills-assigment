{
 "cells": [
  {
   "cell_type": "code",
   "execution_count": 1,
   "id": "fc95ff76-8b50-44ba-bd15-f24e12c72ad9",
   "metadata": {},
   "outputs": [],
   "source": [
    "#assignment 010...\n",
    "#Q1..creat one variable containing following type of data\n",
    "a = 'sabyasachi',20.20,['mango','apple'] ,(20,23,24)"
   ]
  },
  {
   "cell_type": "code",
   "execution_count": 7,
   "id": "13d7620e-ff5b-4e88-bace-5417119f522e",
   "metadata": {},
   "outputs": [],
   "source": [
    "#Q2..what will be the data type of the above given variable\n",
    "var1=''\n",
    "var2='[ds,ml,paython]'\n",
    "var3=['ds','ml','paython']\n",
    "var4=1."
   ]
  },
  {
   "cell_type": "code",
   "execution_count": 4,
   "id": "aa9c2c32-e353-43cd-b7d5-c2c76bf1778b",
   "metadata": {},
   "outputs": [
    {
     "data": {
      "text/plain": [
       "str"
      ]
     },
     "execution_count": 4,
     "metadata": {},
     "output_type": "execute_result"
    }
   ],
   "source": [
    "type(var1)"
   ]
  },
  {
   "cell_type": "code",
   "execution_count": 5,
   "id": "43878b61-fbb8-4e87-ab1f-0cf072369eac",
   "metadata": {},
   "outputs": [
    {
     "data": {
      "text/plain": [
       "str"
      ]
     },
     "execution_count": 5,
     "metadata": {},
     "output_type": "execute_result"
    }
   ],
   "source": [
    "type(var2)"
   ]
  },
  {
   "cell_type": "code",
   "execution_count": 6,
   "id": "62eeafc4-9ed9-435e-98b5-5bfc082eec17",
   "metadata": {},
   "outputs": [
    {
     "data": {
      "text/plain": [
       "list"
      ]
     },
     "execution_count": 6,
     "metadata": {},
     "output_type": "execute_result"
    }
   ],
   "source": [
    "type(var3)"
   ]
  },
  {
   "cell_type": "code",
   "execution_count": 8,
   "id": "779005c9-91af-47f0-8fe7-a9fe34cddbd3",
   "metadata": {},
   "outputs": [
    {
     "data": {
      "text/plain": [
       "float"
      ]
     },
     "execution_count": 8,
     "metadata": {},
     "output_type": "execute_result"
    }
   ],
   "source": [
    "type(var4)"
   ]
  },
  {
   "cell_type": "code",
   "execution_count": null,
   "id": "170f7a7b-4ece-4f1f-abdc-3024bde2b71b",
   "metadata": {},
   "outputs": [],
   "source": [
    "#Q3..explaim the use of the following oprators using an example.\n",
    "\n",
    "4/2 = 2 #division\n",
    "5%2 =1 #modulo\n",
    "10//3 = 3 #floor division\n",
    "4**2 =16 #power\n"
   ]
  },
  {
   "cell_type": "code",
   "execution_count": null,
   "id": "bf386f87-7bec-4b37-984d-8aa06dd40daa",
   "metadata": {},
   "outputs": [],
   "source": []
  },
  {
   "cell_type": "code",
   "execution_count": 19,
   "id": "012414b2-fb0b-49b1-bbc9-7005b82e7d52",
   "metadata": {},
   "outputs": [
    {
     "name": "stdout",
     "output_type": "stream",
     "text": [
      "<class 'str'>\n",
      "sabyasachi\n",
      "<class 'str'>\n",
      "mishra\n",
      "<class 'int'>\n",
      "10\n",
      "<class 'float'>\n",
      "10.5\n",
      "<class 'bool'>\n",
      "True\n",
      "<class 'int'>\n",
      "30\n",
      "<class 'int'>\n",
      "50\n",
      "<class 'int'>\n",
      "60\n",
      "<class 'bool'>\n",
      "True\n",
      "<class 'bool'>\n",
      "False\n"
     ]
    }
   ],
   "source": [
    "# Q4\n",
    "l=['sabyasachi','mishra',10,10.50,True,30,50,60,True,False]\n",
    "for s in l:\n",
    "    print(type(s))\n",
    "    print(s)"
   ]
  },
  {
   "cell_type": "code",
   "execution_count": null,
   "id": "7eab9caa-6abc-4670-9d1b-e9517e511e1f",
   "metadata": {},
   "outputs": [],
   "source": []
  },
  {
   "cell_type": "code",
   "execution_count": null,
   "id": "c060f66c-d072-42a3-bcee-675d5901c5f7",
   "metadata": {},
   "outputs": [],
   "source": [
    "#Q5\n",
    "\n"
   ]
  },
  {
   "cell_type": "code",
   "execution_count": 2,
   "id": "1ef0bb31-aaed-4710-84c7-4fc9dfa09755",
   "metadata": {},
   "outputs": [
    {
     "name": "stdout",
     "output_type": "stream",
     "text": [
      "3\n",
      "6\n",
      "9\n",
      "12\n",
      "15\n",
      "18\n",
      "21\n",
      "24\n"
     ]
    }
   ],
   "source": [
    "#Q6\n",
    "a=[1,2,3,4,5,6,7,8,9,10,11,12,13,14,15,16,17,18,19,20,21,22,23,24,25]\n",
    "\n",
    "for s in a:\n",
    "    if s%3==0:\n",
    "        print (s)"
   ]
  },
  {
   "cell_type": "code",
   "execution_count": null,
   "id": "b4859064-643c-439d-b123-e2d08838e3a9",
   "metadata": {},
   "outputs": [],
   "source": []
  },
  {
   "cell_type": "code",
   "execution_count": 5,
   "id": "1b929b2d-3a17-4a48-9be2-80e1481008ab",
   "metadata": {},
   "outputs": [
    {
     "ename": "AttributeError",
     "evalue": "'tuple' object has no attribute 'remove'",
     "output_type": "error",
     "traceback": [
      "\u001b[0;31m---------------------------------------------------------------------------\u001b[0m",
      "\u001b[0;31mAttributeError\u001b[0m                            Traceback (most recent call last)",
      "Cell \u001b[0;32mIn[5], line 6\u001b[0m\n\u001b[1;32m      1\u001b[0m \u001b[38;5;66;03m#Q7 \u001b[39;00m\n\u001b[1;32m      2\u001b[0m \u001b[38;5;66;03m#immutable object if you can't change the object's state after you crited it, a mutable object allows you to modifi its internal state after creation.\u001b[39;00m\n\u001b[1;32m      3\u001b[0m \n\u001b[1;32m      4\u001b[0m \u001b[38;5;66;03m#immutable example-\u001b[39;00m\n\u001b[1;32m      5\u001b[0m a \u001b[38;5;241m=\u001b[39m (\u001b[38;5;241m1\u001b[39m,\u001b[38;5;241m2\u001b[39m,\u001b[38;5;241m3\u001b[39m,\u001b[38;5;241m4\u001b[39m,\u001b[38;5;241m5\u001b[39m,\u001b[38;5;241m6\u001b[39m)\n\u001b[0;32m----> 6\u001b[0m \u001b[43ma\u001b[49m\u001b[38;5;241;43m.\u001b[39;49m\u001b[43mremove\u001b[49m(\u001b[38;5;241m1\u001b[39m)\n",
      "\u001b[0;31mAttributeError\u001b[0m: 'tuple' object has no attribute 'remove'"
     ]
    }
   ],
   "source": [
    "#Q7 \n",
    "#immutable object if you can't change the object's state after you crited it, a mutable object allows you to modifi its internal state after creation.\n",
    "\n",
    "#immutable example-tuple\n",
    "a = (1,2,3,4,5,6)\n",
    "a.remove(1)\n"
   ]
  },
  {
   "cell_type": "code",
   "execution_count": 3,
   "id": "7d40500f-e9d6-4df8-9211-7d5a008e0817",
   "metadata": {},
   "outputs": [],
   "source": [
    "#mutable example-list\n",
    "b =[1,2,3,4,5,6]\n",
    "b.remove(1)"
   ]
  },
  {
   "cell_type": "code",
   "execution_count": 4,
   "id": "af67628d-5f23-4880-b2a7-eae7fcf2d368",
   "metadata": {},
   "outputs": [
    {
     "data": {
      "text/plain": [
       "[2, 3, 4, 5, 6]"
      ]
     },
     "execution_count": 4,
     "metadata": {},
     "output_type": "execute_result"
    }
   ],
   "source": [
    "b"
   ]
  },
  {
   "cell_type": "code",
   "execution_count": null,
   "id": "6d564e11-9ccf-474d-9c25-e0c65efe4f32",
   "metadata": {},
   "outputs": [],
   "source": []
  }
 ],
 "metadata": {
  "kernelspec": {
   "display_name": "Python 3 (ipykernel)",
   "language": "python",
   "name": "python3"
  },
  "language_info": {
   "codemirror_mode": {
    "name": "ipython",
    "version": 3
   },
   "file_extension": ".py",
   "mimetype": "text/x-python",
   "name": "python",
   "nbconvert_exporter": "python",
   "pygments_lexer": "ipython3",
   "version": "3.10.8"
  }
 },
 "nbformat": 4,
 "nbformat_minor": 5
}
