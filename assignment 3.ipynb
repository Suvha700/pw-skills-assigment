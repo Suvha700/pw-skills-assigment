{
 "cells": [
  {
   "cell_type": "code",
   "execution_count": 1,
   "id": "61edb429-f19f-4699-b955-2a411061d284",
   "metadata": {},
   "outputs": [],
   "source": [
    "#Q1. Which keyword is used to create a function? Create a function to return a list of odd numbers in the range of 1 to 25\n",
    "\n",
    "#def keyword use to creat a function.\n",
    "\n",
    "\n",
    "def odd() :\n",
    "    a= int(input()) # a and b for range input\n",
    "    b= int(input())\n",
    "    l=[]\n",
    "    for i in range(a,b):\n",
    "        if (i%2)==1:\n",
    "            l.append(i)\n",
    "    return l"
   ]
  },
  {
   "cell_type": "code",
   "execution_count": 2,
   "id": "b686cd7c-cf24-4c8b-b8f7-b5e6c64fb7a9",
   "metadata": {
    "tags": []
   },
   "outputs": [
    {
     "name": "stdin",
     "output_type": "stream",
     "text": [
      " 1\n",
      " 25\n"
     ]
    },
    {
     "data": {
      "text/plain": [
       "[1, 3, 5, 7, 9, 11, 13, 15, 17, 19, 21, 23]"
      ]
     },
     "execution_count": 2,
     "metadata": {},
     "output_type": "execute_result"
    }
   ],
   "source": [
    "odd()"
   ]
  },
  {
   "cell_type": "code",
   "execution_count": null,
   "id": "cd3cab7c-98b7-42aa-8277-81aeb7eaff1e",
   "metadata": {},
   "outputs": [],
   "source": []
  },
  {
   "cell_type": "code",
   "execution_count": 3,
   "id": "b8824181-347d-4895-9897-23021ee1b480",
   "metadata": {},
   "outputs": [],
   "source": [
    "#Q2. Why *args and **kwargs is used in some functions? Create a function each for *args and **kwargs  to demonstrate their use.\n",
    "\n",
    "#args is used for any count of argument inpur\n",
    "#kwargs is used for any count of argument input passed as dictionary.\n",
    "\n",
    "\n",
    "def fan_1(*suvho):   # this is exp-*args\n",
    "    return sum (suvho)\n",
    "\n",
    "\n",
    "def fan_2(**suvho):   #this is exp - **kwargs\n",
    "    return suvho\n"
   ]
  },
  {
   "cell_type": "code",
   "execution_count": 4,
   "id": "72485ab4-3f87-4057-acf2-4869a4dfd026",
   "metadata": {},
   "outputs": [
    {
     "data": {
      "text/plain": [
       "41"
      ]
     },
     "execution_count": 4,
     "metadata": {},
     "output_type": "execute_result"
    }
   ],
   "source": [
    "fan_1(1,2,3,5,6,9,8,7)"
   ]
  },
  {
   "cell_type": "code",
   "execution_count": 5,
   "id": "687e5dc1-fae9-4332-99c1-d86a23006103",
   "metadata": {},
   "outputs": [
    {
     "data": {
      "text/plain": [
       "{'name': 'sabyasachi mishra', 'age': 23}"
      ]
     },
     "execution_count": 5,
     "metadata": {},
     "output_type": "execute_result"
    }
   ],
   "source": [
    "fan_2(name='sabyasachi mishra',age=23)"
   ]
  },
  {
   "cell_type": "code",
   "execution_count": null,
   "id": "3801d316-6fbe-4620-a0a5-d00b3069474e",
   "metadata": {},
   "outputs": [],
   "source": [
    "\n",
    "\n"
   ]
  },
  {
   "cell_type": "code",
   "execution_count": 6,
   "id": "6de24ed3-874a-4062-8ac8-63d0875c9aea",
   "metadata": {},
   "outputs": [],
   "source": [
    "#Q3. What is an iterator in python? Name the method used to initialise the iterator object and the method used for iteration. Use these methods to print the first five elements of the given list [2, 4, 6, 8, 10, 12, 14,18,20]\n",
    "\n",
    "# an object that allows you to iterate over collections of data, such as lists, tuples, dictionaries, and sets.\n",
    "# the method used to initialise the iterator object is- iter()\n",
    "#the method used for iteration id - next()\n",
    "\n",
    "n=[2,4,6,8,10,12,14,16,18,20]\n",
    "\n",
    "n=iter(n)"
   ]
  },
  {
   "cell_type": "code",
   "execution_count": 7,
   "id": "862c274b-7290-4ea5-9d21-e2c9b80c508d",
   "metadata": {},
   "outputs": [
    {
     "data": {
      "text/plain": [
       "2"
      ]
     },
     "execution_count": 7,
     "metadata": {},
     "output_type": "execute_result"
    }
   ],
   "source": [
    "next(n)"
   ]
  },
  {
   "cell_type": "code",
   "execution_count": 8,
   "id": "179247e5-3276-46a5-b5ef-2d73dd44a62b",
   "metadata": {},
   "outputs": [
    {
     "data": {
      "text/plain": [
       "4"
      ]
     },
     "execution_count": 8,
     "metadata": {},
     "output_type": "execute_result"
    }
   ],
   "source": [
    "next(n)"
   ]
  },
  {
   "cell_type": "code",
   "execution_count": 9,
   "id": "7d6500aa-f29e-4fbc-9413-2ec2e2745327",
   "metadata": {},
   "outputs": [
    {
     "data": {
      "text/plain": [
       "6"
      ]
     },
     "execution_count": 9,
     "metadata": {},
     "output_type": "execute_result"
    }
   ],
   "source": [
    "next(n)"
   ]
  },
  {
   "cell_type": "code",
   "execution_count": 10,
   "id": "ad69a6cf-91df-489b-a3b8-6daa6d73f9a4",
   "metadata": {},
   "outputs": [
    {
     "data": {
      "text/plain": [
       "8"
      ]
     },
     "execution_count": 10,
     "metadata": {},
     "output_type": "execute_result"
    }
   ],
   "source": [
    "next(n)"
   ]
  },
  {
   "cell_type": "code",
   "execution_count": 38,
   "id": "aee82078-a74e-42e3-bc58-1beb6ffa0025",
   "metadata": {
    "tags": []
   },
   "outputs": [
    {
     "data": {
      "text/plain": [
       "10"
      ]
     },
     "execution_count": 38,
     "metadata": {},
     "output_type": "execute_result"
    }
   ],
   "source": [
    "next(n)"
   ]
  },
  {
   "cell_type": "code",
   "execution_count": null,
   "id": "9767298b-e3e1-4183-a09a-feaa76d4b038",
   "metadata": {},
   "outputs": [],
   "source": [
    "\n",
    "\n"
   ]
  },
  {
   "cell_type": "code",
   "execution_count": 36,
   "id": "358e9702-134e-4976-8cd2-4bbac3b05c25",
   "metadata": {
    "tags": []
   },
   "outputs": [],
   "source": [
    "#Q4. What is a generator function in python? Why yield keyword is used? Give an example of a generator function.\n",
    "\n",
    "\n",
    "'''Python Generator functions allow you to declare a function that behaves likes an iterator,\n",
    "allowing programmers to make an iterator in a fast,easy, and clean way.'''\n",
    "\n",
    "#The yield keyword is used to create a generator function.\n",
    "\n",
    "\n",
    "#EXP- generate Fibonacci NUMBER\n",
    "\n",
    "def fib():\n",
    "    a,b = 0,1\n",
    "    while True:\n",
    "        yield a \n",
    "        a,b = b , a+b #this generator function is used for generate fibonacci number.\n"
   ]
  },
  {
   "cell_type": "code",
   "execution_count": null,
   "id": "7519128c-5a41-4b4b-ab05-7ba071ca732a",
   "metadata": {},
   "outputs": [],
   "source": [
    "\n",
    "\n",
    "\n"
   ]
  },
  {
   "cell_type": "code",
   "execution_count": 68,
   "id": "c28fbe3b-8548-4476-8c50-6c3575ce5f80",
   "metadata": {},
   "outputs": [],
   "source": [
    "#Q5. Create a generator function for prime numbers less than 1000. Use the next() method to print the first 20 prime numbers.\n",
    "\n",
    "    \n",
    "def prime_num(n):\n",
    "    for i in range(n):\n",
    "        if i%2!=0 and i%3!=0:\n",
    "            yield i\n",
    "        elif i==2 or i==3:  \n",
    "            yield i"
   ]
  },
  {
   "cell_type": "code",
   "execution_count": 72,
   "id": "4dacc5cb-33a9-4aa8-9a12-0d9b95af1e6e",
   "metadata": {},
   "outputs": [],
   "source": [
    "prime1=[]\n",
    "for i in prime_num(1000):\n",
    "    prime1.append(i)\n",
    "    "
   ]
  },
  {
   "cell_type": "code",
   "execution_count": 73,
   "id": "dbe8319c-a310-4434-bcc6-39b0549b4782",
   "metadata": {},
   "outputs": [],
   "source": [
    "prime=iter(prime1)"
   ]
  },
  {
   "cell_type": "code",
   "execution_count": 74,
   "id": "18b8a5c1-04c7-4a8d-894d-020e6892612c",
   "metadata": {},
   "outputs": [
    {
     "data": {
      "text/plain": [
       "1"
      ]
     },
     "execution_count": 74,
     "metadata": {},
     "output_type": "execute_result"
    }
   ],
   "source": [
    "next(prime)"
   ]
  },
  {
   "cell_type": "code",
   "execution_count": 75,
   "id": "d23b70f0-320d-44b2-9fc0-dd6a3bad5930",
   "metadata": {},
   "outputs": [
    {
     "data": {
      "text/plain": [
       "2"
      ]
     },
     "execution_count": 75,
     "metadata": {},
     "output_type": "execute_result"
    }
   ],
   "source": [
    "next(prime)"
   ]
  },
  {
   "cell_type": "code",
   "execution_count": 76,
   "id": "be85660a-da2a-4e68-ae76-edd05e4b4e8d",
   "metadata": {},
   "outputs": [
    {
     "data": {
      "text/plain": [
       "3"
      ]
     },
     "execution_count": 76,
     "metadata": {},
     "output_type": "execute_result"
    }
   ],
   "source": [
    "next(prime)"
   ]
  },
  {
   "cell_type": "code",
   "execution_count": 77,
   "id": "d77629f1-4afa-4722-9306-c9ac0549ad93",
   "metadata": {},
   "outputs": [
    {
     "data": {
      "text/plain": [
       "5"
      ]
     },
     "execution_count": 77,
     "metadata": {},
     "output_type": "execute_result"
    }
   ],
   "source": [
    "next(prime)"
   ]
  },
  {
   "cell_type": "code",
   "execution_count": 78,
   "id": "f94ad423-3640-45f0-bccc-f62f14530aa4",
   "metadata": {},
   "outputs": [
    {
     "data": {
      "text/plain": [
       "7"
      ]
     },
     "execution_count": 78,
     "metadata": {},
     "output_type": "execute_result"
    }
   ],
   "source": [
    "next(prime)"
   ]
  },
  {
   "cell_type": "code",
   "execution_count": 79,
   "id": "42e0853c-0d72-4cd3-8eaa-15deee9b1aa9",
   "metadata": {},
   "outputs": [
    {
     "data": {
      "text/plain": [
       "11"
      ]
     },
     "execution_count": 79,
     "metadata": {},
     "output_type": "execute_result"
    }
   ],
   "source": [
    "next(prime)"
   ]
  },
  {
   "cell_type": "code",
   "execution_count": 80,
   "id": "86b18e3c-4b9f-4fc7-b1ef-e764d74363f0",
   "metadata": {},
   "outputs": [
    {
     "data": {
      "text/plain": [
       "13"
      ]
     },
     "execution_count": 80,
     "metadata": {},
     "output_type": "execute_result"
    }
   ],
   "source": [
    "next(prime)"
   ]
  },
  {
   "cell_type": "code",
   "execution_count": 81,
   "id": "153680dd-5856-4d12-8128-ceb246b4743a",
   "metadata": {},
   "outputs": [
    {
     "data": {
      "text/plain": [
       "17"
      ]
     },
     "execution_count": 81,
     "metadata": {},
     "output_type": "execute_result"
    }
   ],
   "source": [
    "next(prime)"
   ]
  },
  {
   "cell_type": "code",
   "execution_count": 82,
   "id": "92e6a7b4-384b-486a-a7ac-87b2ae7bfecf",
   "metadata": {},
   "outputs": [
    {
     "data": {
      "text/plain": [
       "19"
      ]
     },
     "execution_count": 82,
     "metadata": {},
     "output_type": "execute_result"
    }
   ],
   "source": [
    "next(prime)"
   ]
  },
  {
   "cell_type": "code",
   "execution_count": 83,
   "id": "730136a8-a74f-4768-bb0c-f13a44bd84be",
   "metadata": {},
   "outputs": [
    {
     "data": {
      "text/plain": [
       "23"
      ]
     },
     "execution_count": 83,
     "metadata": {},
     "output_type": "execute_result"
    }
   ],
   "source": [
    "next(prime)"
   ]
  },
  {
   "cell_type": "code",
   "execution_count": 84,
   "id": "fb5cc77d-d2e2-4c02-9a79-3988f6186d68",
   "metadata": {},
   "outputs": [
    {
     "data": {
      "text/plain": [
       "25"
      ]
     },
     "execution_count": 84,
     "metadata": {},
     "output_type": "execute_result"
    }
   ],
   "source": [
    "next(prime)"
   ]
  },
  {
   "cell_type": "code",
   "execution_count": 85,
   "id": "28964172-1401-4d1b-adeb-3440131f230f",
   "metadata": {},
   "outputs": [
    {
     "data": {
      "text/plain": [
       "29"
      ]
     },
     "execution_count": 85,
     "metadata": {},
     "output_type": "execute_result"
    }
   ],
   "source": [
    "next(prime)"
   ]
  },
  {
   "cell_type": "code",
   "execution_count": 86,
   "id": "61bb5fa5-fb95-41c0-beba-a89ad8781eaf",
   "metadata": {},
   "outputs": [
    {
     "data": {
      "text/plain": [
       "31"
      ]
     },
     "execution_count": 86,
     "metadata": {},
     "output_type": "execute_result"
    }
   ],
   "source": [
    "next(prime)"
   ]
  },
  {
   "cell_type": "code",
   "execution_count": 87,
   "id": "3ff524f8-da81-45dc-b605-89b0927f89e3",
   "metadata": {},
   "outputs": [
    {
     "data": {
      "text/plain": [
       "35"
      ]
     },
     "execution_count": 87,
     "metadata": {},
     "output_type": "execute_result"
    }
   ],
   "source": [
    "next(prime)"
   ]
  },
  {
   "cell_type": "code",
   "execution_count": 88,
   "id": "2ee65416-9ac5-47b5-9910-36a417a8b8af",
   "metadata": {},
   "outputs": [
    {
     "data": {
      "text/plain": [
       "37"
      ]
     },
     "execution_count": 88,
     "metadata": {},
     "output_type": "execute_result"
    }
   ],
   "source": [
    "next(prime)"
   ]
  },
  {
   "cell_type": "code",
   "execution_count": 89,
   "id": "9a6ed946-26d4-4e3b-880a-1830984692d2",
   "metadata": {},
   "outputs": [
    {
     "data": {
      "text/plain": [
       "41"
      ]
     },
     "execution_count": 89,
     "metadata": {},
     "output_type": "execute_result"
    }
   ],
   "source": [
    "next(prime)"
   ]
  },
  {
   "cell_type": "code",
   "execution_count": 90,
   "id": "a779f78d-31f2-4ba4-b9fc-15d231fc8bc1",
   "metadata": {},
   "outputs": [
    {
     "data": {
      "text/plain": [
       "43"
      ]
     },
     "execution_count": 90,
     "metadata": {},
     "output_type": "execute_result"
    }
   ],
   "source": [
    "next(prime)"
   ]
  },
  {
   "cell_type": "code",
   "execution_count": 91,
   "id": "b45caebd-6218-418f-8c62-30df1336e1db",
   "metadata": {},
   "outputs": [
    {
     "data": {
      "text/plain": [
       "47"
      ]
     },
     "execution_count": 91,
     "metadata": {},
     "output_type": "execute_result"
    }
   ],
   "source": [
    "next(prime)"
   ]
  },
  {
   "cell_type": "code",
   "execution_count": 92,
   "id": "bd5e3a2d-9563-4c74-a59d-b4564ca00c31",
   "metadata": {},
   "outputs": [
    {
     "data": {
      "text/plain": [
       "49"
      ]
     },
     "execution_count": 92,
     "metadata": {},
     "output_type": "execute_result"
    }
   ],
   "source": [
    "next(prime)"
   ]
  },
  {
   "cell_type": "code",
   "execution_count": 93,
   "id": "483f45a4-4356-4ee5-a691-9615a8453e12",
   "metadata": {},
   "outputs": [
    {
     "data": {
      "text/plain": [
       "53"
      ]
     },
     "execution_count": 93,
     "metadata": {},
     "output_type": "execute_result"
    }
   ],
   "source": [
    "next(prime)#first 20 prime number."
   ]
  },
  {
   "cell_type": "code",
   "execution_count": 3,
   "id": "95ed8860-d53b-4d8d-8fdb-d71dd17f4d52",
   "metadata": {},
   "outputs": [
    {
     "name": "stdout",
     "output_type": "stream",
     "text": [
      "0\n",
      "1\n",
      "1\n",
      "2\n",
      "3\n",
      "5\n",
      "8\n",
      "13\n",
      "21\n",
      "34\n"
     ]
    }
   ],
   "source": [
    "#Q6. Write a python program to print the first 10 Fibonacci numbers using a while loop.\n",
    "n=10\n",
    "n1 = 0\n",
    "n2 = 1\n",
    "i = 0\n",
    "\n",
    "while(i <  n):\n",
    "    print(n1)\n",
    "    Next = n1 + n2\n",
    "    n1 = n2\n",
    "    n2 = Next\n",
    "    i = i + 1"
   ]
  },
  {
   "cell_type": "code",
   "execution_count": 7,
   "id": "526856f9-71ef-40c9-b812-c178e2bbc7d8",
   "metadata": {},
   "outputs": [
    {
     "data": {
      "text/plain": [
       "['p', 'w', 's', 'k', 'i', 'l', 's']"
      ]
     },
     "execution_count": 7,
     "metadata": {},
     "output_type": "execute_result"
    }
   ],
   "source": [
    "#Q7. Write a List Comprehension to iterate through the given string: ‘pwskills’. Expected output: ['p', 'w', 's', 'k', 'i', 'l', 'l', 's']\n",
    "\n",
    "n='pwskils'\n",
    "\n",
    "[ i for i in n ]\n"
   ]
  },
  {
   "cell_type": "code",
   "execution_count": 11,
   "id": "b870d95e-1cb2-4839-b16e-4958755dc89e",
   "metadata": {},
   "outputs": [
    {
     "name": "stdin",
     "output_type": "stream",
     "text": [
      " 121\n"
     ]
    }
   ],
   "source": [
    "num=int(input())\n",
    "s=str(num)\n",
    "pi=int(s[::-1])\n",
    "\n",
    "\n"
   ]
  },
  {
   "cell_type": "code",
   "execution_count": 12,
   "id": "37f07412-c148-4f79-b7c6-b3e384fad9c6",
   "metadata": {},
   "outputs": [
    {
     "data": {
      "text/plain": [
       "121"
      ]
     },
     "execution_count": 12,
     "metadata": {},
     "output_type": "execute_result"
    }
   ],
   "source": [
    "pi\n"
   ]
  },
  {
   "cell_type": "code",
   "execution_count": 17,
   "id": "e700cc02-35b2-44c6-b7e8-27621fa5edb8",
   "metadata": {},
   "outputs": [
    {
     "name": "stdin",
     "output_type": "stream",
     "text": [
      " 12521\n"
     ]
    },
    {
     "name": "stdout",
     "output_type": "stream",
     "text": [
      "12521 this is a palindrome\n"
     ]
    }
   ],
   "source": [
    "#Q8. Write a python program to check whether a given number is Palindrome or not using a while loop.\n",
    "num=int(input())\n",
    "s=str(num)\n",
    "pi=int(s[::-1])\n",
    "\n",
    "if num == pi:\n",
    "    print(num,'this is a palindrome')\n",
    "else:\n",
    "    print(num,\"this is't a palindromr\")\n",
    "\n",
    "\n",
    "\n",
    "\n"
   ]
  },
  {
   "cell_type": "code",
   "execution_count": null,
   "id": "4c3a5abd-b53d-47c0-8dd4-1173cd12915d",
   "metadata": {},
   "outputs": [],
   "source": [
    "\n",
    "\n",
    "\n"
   ]
  },
  {
   "cell_type": "code",
   "execution_count": 20,
   "id": "6442b904-7ee1-4d28-8836-9f15d7bb0240",
   "metadata": {},
   "outputs": [],
   "source": [
    "#Q9. Write a code to print odd numbers from 1 to 100 using list comprehension.\n",
    "\n",
    "l=[i for i in range(1,100)]\n",
    "l1=[i for i in l if i%2!=0]\n",
    "\n"
   ]
  },
  {
   "cell_type": "code",
   "execution_count": 21,
   "id": "5c936bbe-b223-4eeb-b78f-d1d2d6567a68",
   "metadata": {},
   "outputs": [
    {
     "data": {
      "text/plain": [
       "[1,\n",
       " 3,\n",
       " 5,\n",
       " 7,\n",
       " 9,\n",
       " 11,\n",
       " 13,\n",
       " 15,\n",
       " 17,\n",
       " 19,\n",
       " 21,\n",
       " 23,\n",
       " 25,\n",
       " 27,\n",
       " 29,\n",
       " 31,\n",
       " 33,\n",
       " 35,\n",
       " 37,\n",
       " 39,\n",
       " 41,\n",
       " 43,\n",
       " 45,\n",
       " 47,\n",
       " 49,\n",
       " 51,\n",
       " 53,\n",
       " 55,\n",
       " 57,\n",
       " 59,\n",
       " 61,\n",
       " 63,\n",
       " 65,\n",
       " 67,\n",
       " 69,\n",
       " 71,\n",
       " 73,\n",
       " 75,\n",
       " 77,\n",
       " 79,\n",
       " 81,\n",
       " 83,\n",
       " 85,\n",
       " 87,\n",
       " 89,\n",
       " 91,\n",
       " 93,\n",
       " 95,\n",
       " 97,\n",
       " 99]"
      ]
     },
     "execution_count": 21,
     "metadata": {},
     "output_type": "execute_result"
    }
   ],
   "source": [
    "l1"
   ]
  },
  {
   "cell_type": "code",
   "execution_count": null,
   "id": "d0eff814-2f05-456a-abff-9e494519dd99",
   "metadata": {},
   "outputs": [],
   "source": []
  }
 ],
 "metadata": {
  "kernelspec": {
   "display_name": "Python 3 (ipykernel)",
   "language": "python",
   "name": "python3"
  },
  "language_info": {
   "codemirror_mode": {
    "name": "ipython",
    "version": 3
   },
   "file_extension": ".py",
   "mimetype": "text/x-python",
   "name": "python",
   "nbconvert_exporter": "python",
   "pygments_lexer": "ipython3",
   "version": "3.10.8"
  }
 },
 "nbformat": 4,
 "nbformat_minor": 5
}
