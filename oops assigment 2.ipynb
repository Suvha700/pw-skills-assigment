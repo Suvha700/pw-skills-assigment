{
 "cells": [
  {
   "cell_type": "code",
   "execution_count": 5,
   "id": "d8a33c21-5e8b-4946-8930-6a47731ebd6f",
   "metadata": {},
   "outputs": [],
   "source": [
    "#Q1. Explain Class and Object with respect to Object-Oriented Programming. Give a suitable example.\n",
    "\n",
    "#class is more like a type ,exp-car is a class\n",
    "# but when you define a car with name , speed ,colour,brand this is a object .\n",
    "\n",
    "class humen:\n",
    "    def __init__(self,name,age,hight):\n",
    "        self.name=name\n",
    "        self.aage=age        # ihis is a class\n",
    "        self.hight=hight\n",
    "        "
   ]
  },
  {
   "cell_type": "code",
   "execution_count": 6,
   "id": "9541c7cb-5e7e-40af-9a35-9be876750e7f",
   "metadata": {},
   "outputs": [],
   "source": [
    "h = humen('suvho',23,5.6) # this is a object ."
   ]
  },
  {
   "cell_type": "code",
   "execution_count": null,
   "id": "67bb612d-eeb0-4dac-852b-b69a4907a3d0",
   "metadata": {},
   "outputs": [],
   "source": [
    "\n"
   ]
  },
  {
   "cell_type": "code",
   "execution_count": 2,
   "id": "21d368c9-4620-424a-8a96-dee29de1a5bb",
   "metadata": {},
   "outputs": [],
   "source": [
    "#Q2. Name the four pillars of OOPs.\n",
    "\n",
    "#pillars of oops is-\n",
    "### 1.Abstraction.\n",
    "### 2.Encapsulation.\n",
    "### 3.Inheritance.\n",
    "### 4.Polymorphism.\n"
   ]
  },
  {
   "cell_type": "code",
   "execution_count": null,
   "id": "fa1761a5-0206-4125-b95e-b0032b008c48",
   "metadata": {},
   "outputs": [],
   "source": []
  },
  {
   "cell_type": "code",
   "execution_count": 8,
   "id": "2f4bc28a-e3f1-4f24-9aa1-0b73f25c4ec8",
   "metadata": {},
   "outputs": [],
   "source": [
    "#Q3. Explain why the __init__() function is used. Give a suitable example.\n",
    "\n",
    "#the __init_ used to initialize the attributes of that class.\n",
    "\n",
    "class car :\n",
    "    def __init__(self,name):\n",
    "        self.name=name\n",
    "        "
   ]
  },
  {
   "cell_type": "code",
   "execution_count": 9,
   "id": "dc32a878-c577-4ca4-9763-4bf8140c0e15",
   "metadata": {},
   "outputs": [],
   "source": [
    "h=car('tata')"
   ]
  },
  {
   "cell_type": "code",
   "execution_count": 10,
   "id": "0b08ccf2-4cc6-4d73-95e7-53f42def90f8",
   "metadata": {},
   "outputs": [
    {
     "data": {
      "text/plain": [
       "'tata'"
      ]
     },
     "execution_count": 10,
     "metadata": {},
     "output_type": "execute_result"
    }
   ],
   "source": [
    "h.name"
   ]
  },
  {
   "cell_type": "code",
   "execution_count": null,
   "id": "91244e21-64f1-4a0d-8868-e166695dba3c",
   "metadata": {},
   "outputs": [],
   "source": [
    "\n"
   ]
  },
  {
   "cell_type": "code",
   "execution_count": 3,
   "id": "ac74ca03-22bb-4249-864d-d1d7a3419def",
   "metadata": {},
   "outputs": [],
   "source": [
    "#Q4. Why self is used in OOPs?\n",
    "\n",
    "#The self is used to represent the instance of the class.\n"
   ]
  },
  {
   "cell_type": "code",
   "execution_count": null,
   "id": "495154f4-11c3-49e2-b905-b1dfaabdf21c",
   "metadata": {},
   "outputs": [],
   "source": [
    "\n"
   ]
  },
  {
   "cell_type": "code",
   "execution_count": 14,
   "id": "22557281-ed33-43b8-9e42-fef965507035",
   "metadata": {},
   "outputs": [
    {
     "data": {
      "text/plain": [
       "'class class1:\\n    def d1(self):\\n        print(\\'this is c1\\')\\n        \\nclass class2(class1):\\n    def d2(self):\\n        print(\"this is c2\") \\n        class1.d1\\n#Multilevel Inheritance.\\n\\n\\nclass class1:\\n    def d1(self):\\n        print(\\'this is c1\\')\\n        \\nclass class2(class1):\\n    def d2(self):\\n        print(\"this is c2\") \\n        \\nclass class3(class2):\\n    def d3(self):\\n        print(\\'this is c3\\')\\n        class3.d1\\n        class3.d2\\n    \\n    \\n#multiple inheritance\\n\\nclass class4(class1,class2,class3):\\n    def d4(self):\\n        print(\\'this is c4\\')\\n        class4.d1\\n        class4.d2\\n        class4.d3\\n\\n\\n\\n#Hierarchical Inheritance.\\n\\n\\nclass class5(class1):\\n    def d5(self):\\n        print(\\'this is c5\\')\\n    class5.d1\\n    \\n    \\nclass class6(class1):\\n    def d6(self):\\n        print(\\'this is c6 \\')\\n    class6.d1'"
      ]
     },
     "execution_count": 14,
     "metadata": {},
     "output_type": "execute_result"
    }
   ],
   "source": [
    "#Q5. What is inheritance? Give an example for each type of inheritance.\n",
    "\n",
    "#if any any class use proparty's of another class ,this type of mechanism called inheritance.\n",
    "#there are 5 type of inheritance-\n",
    "\n",
    "#Single Inheritance.\n",
    "\n",
    "\"\"\"class class1:\n",
    "    def d1(self):\n",
    "        print('this is c1')\n",
    "        \n",
    "class class2(class1):\n",
    "    def d2(self):\n",
    "        print(\"this is c2\") \n",
    "        class1.d1\n",
    "#Multilevel Inheritance.\n",
    "\n",
    "\n",
    "class class1:\n",
    "    def d1(self):\n",
    "        print('this is c1')\n",
    "        \n",
    "class class2(class1):\n",
    "    def d2(self):\n",
    "        print(\"this is c2\") \n",
    "        \n",
    "class class3(class2):\n",
    "    def d3(self):\n",
    "        print('this is c3')\n",
    "        class3.d1\n",
    "        class3.d2\n",
    "    \n",
    "    \n",
    "#multiple inheritance\n",
    "\n",
    "class class4(class1,class2,class3):\n",
    "    def d4(self):\n",
    "        print('this is c4')\n",
    "        class4.d1\n",
    "        class4.d2\n",
    "        class4.d3\n",
    "\n",
    "\n",
    "\n",
    "#Hierarchical Inheritance.\n",
    "\n",
    "\n",
    "class class5(class1):\n",
    "    def d5(self):\n",
    "        print('this is c5')\n",
    "    class5.d1\n",
    "    \n",
    "    \n",
    "class class6(class1):\n",
    "    def d6(self):\n",
    "        print('this is c6 ')\n",
    "    class6.d1\"\"\"\n",
    "\n",
    "\n",
    "#Hybrid Inheritance.\n",
    "\n",
    "\n",
    "\n"
   ]
  },
  {
   "cell_type": "code",
   "execution_count": null,
   "id": "eee496d8-527a-4041-a73c-8c7475370f97",
   "metadata": {},
   "outputs": [],
   "source": []
  }
 ],
 "metadata": {
  "kernelspec": {
   "display_name": "Python 3 (ipykernel)",
   "language": "python",
   "name": "python3"
  },
  "language_info": {
   "codemirror_mode": {
    "name": "ipython",
    "version": 3
   },
   "file_extension": ".py",
   "mimetype": "text/x-python",
   "name": "python",
   "nbconvert_exporter": "python",
   "pygments_lexer": "ipython3",
   "version": "3.10.8"
  }
 },
 "nbformat": 4,
 "nbformat_minor": 5
}
